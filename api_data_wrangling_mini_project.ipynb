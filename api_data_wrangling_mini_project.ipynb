{
 "cells": [
  {
   "cell_type": "markdown",
   "source": [
    "This exercise will require you to pull some data from https://data.nasdaq.com/ (formerly Quandl API)."
   ],
   "metadata": {}
  },
  {
   "cell_type": "markdown",
   "source": [
    "As a first step, you will need to register a free account on the https://data.nasdaq.com/ website."
   ],
   "metadata": {}
  },
  {
   "cell_type": "markdown",
   "source": [
    "After you register, you will be provided with a unique API key, that you should store:\n",
    "\n",
    "*Note*: Use a `.env` file and put your key in there and `python-dotenv` to access it in this notebook. \n",
    "\n",
    "The code below uses a key that was used when generating this project but has since been deleted. Never submit your keys to source control. There is a `.env-example` file in this repository to illusrtate what you need. Copy that to a file called `.env` and use your own api key in that `.env` file. Make sure you also have a `.gitignore` file with a line for `.env` added to it. \n",
    "\n",
    "The standard Python gitignore is [here](https://github.com/github/gitignore/blob/master/Python.gitignore) you can just copy that. "
   ],
   "metadata": {}
  },
  {
   "cell_type": "code",
   "source": [
    "# get api key from your .env file\n",
    "import os\n",
    "from dotenv import load_dotenv\n",
    "\n",
    "load_dotenv()\n",
    "\n",
    "API_KEY = os.getenv('NASDAQ_API_KEY')"
   ],
   "metadata": {
    "ExecuteTime": {
     "end_time": "2024-09-28T17:12:18.039659Z",
     "start_time": "2024-09-28T17:12:18.036520Z"
    }
   },
   "outputs": [],
   "execution_count": 25
  },
  {
   "cell_type": "markdown",
   "source": "",
   "metadata": {}
  },
  {
   "cell_type": "markdown",
   "source": [
    "For this mini project, we will focus on equities data from the Frankfurt Stock Exhange (FSE), which is available for free. We'll try and analyze the stock prices of a company called Carl Zeiss Meditec, which manufactures tools for eye examinations, as well as medical lasers for laser eye surgery: https://www.zeiss.com/meditec/int/home.html. The company is listed under the stock ticker AFX_X."
   ],
   "metadata": {}
  },
  {
   "cell_type": "markdown",
   "source": [
    "You can find the detailed Nasdaq Data API instructions here: https://docs.data.nasdaq.com/docs/in-depth-usage"
   ],
   "metadata": {}
  },
  {
   "cell_type": "markdown",
   "source": [
    "While there is a dedicated Python package for connecting to the Nasdaq API, we would prefer that you use the *requests* package, which can be easily downloaded using *pip* or *conda*. You can find the documentation for the package here: http://docs.python-requests.org/en/master/ "
   ],
   "metadata": {}
  },
  {
   "cell_type": "markdown",
   "source": [
    "Finally, apart from the *requests* package, you are encouraged to not use any third party Python packages, such as *pandas*, and instead focus on what's available in the Python Standard Library (the *collections* module might come in handy: https://pymotw.com/3/collections/).\n",
    "Also, since you won't have access to DataFrames, you are encouraged to us Python's native data structures - preferably dictionaries, though some questions can also be answered using lists.\n",
    "You can read more on these data structures here: https://docs.python.org/3/tutorial/datastructures.html"
   ],
   "metadata": {}
  },
  {
   "cell_type": "markdown",
   "source": [
    "Keep in mind that the JSON responses you will be getting from the API map almost one-to-one to Python's dictionaries. Unfortunately, they can be very nested, so make sure you read up on indexing dictionaries in the documentation provided above."
   ],
   "metadata": {}
  },
  {
   "cell_type": "code",
   "source": [
    "# First, import the relevant modules\n",
    "import requests\n",
    "import json\n",
    "from datetime import datetime\n",
    "import os\n",
    "from dotenv import load_dotenv"
   ],
   "metadata": {
    "ExecuteTime": {
     "end_time": "2024-09-28T16:41:00.383830Z",
     "start_time": "2024-09-28T16:41:00.152582Z"
    }
   },
   "outputs": [],
   "execution_count": 2
  },
  {
   "cell_type": "markdown",
   "source": [
    "Note: API's can change a bit with each version, for this exercise it is reccomended to use the nasdaq api at `https://data.nasdaq.com/api/v3/`. This is the same api as what used to be quandl so `https://www.quandl.com/api/v3/` should work too.\n",
    "\n",
    "Hint: We are looking for the `AFX_X` data on the `datasets/FSE/` dataset."
   ],
   "metadata": {}
  },
  {
   "cell_type": "code",
   "source": [
    "# Now, call the Nasdaq API and pull out a small sample of the data (only one day) to get a glimpse\n",
    "# into the JSON structure that will be returned\n",
    "# Construct the API URL\n",
    "base_url = \"https://data.nasdaq.com/api/v3/datasets/FSE/AFX_X\"\n",
    "params = {\n",
    "    \"start_date\": \"2017-01-02\",\n",
    "    \"end_date\": \"2017-01-02\",\n",
    "    \"api_key\": API_KEY\n",
    "}\n",
    "\n",
    "# Make the API request\n",
    "response = requests.get(base_url, params=params)\n",
    "\n",
    "# Check if the request was successful\n",
    "if response.status_code == 200:\n",
    "    # Convert the JSON response to a Python dictionary\n",
    "    data = response.json()\n",
    "    \n",
    "    # Print the JSON structure\n",
    "    print(json.dumps(data, indent=2))\n",
    "else:\n",
    "    print(f\"Error: Unable to fetch data. Status code: {response.status_code}\")"
   ],
   "metadata": {
    "ExecuteTime": {
     "end_time": "2024-09-28T16:41:06.815582Z",
     "start_time": "2024-09-28T16:41:06.407968Z"
    }
   },
   "outputs": [
    {
     "name": "stdout",
     "output_type": "stream",
     "text": [
      "Error: Unable to fetch data. Status code: 410\n"
     ]
    }
   ],
   "execution_count": 3
  },
  {
   "metadata": {
    "ExecuteTime": {
     "end_time": "2024-09-28T16:43:35.464678Z",
     "start_time": "2024-09-28T16:43:35.126321Z"
    }
   },
   "cell_type": "code",
   "source": [
    "import requests\n",
    "import json\n",
    "import os\n",
    "\n",
    "# Get the API key from an environment variable\n",
    "API_KEY = os.getenv('NASDAQ_API_KEY')\n",
    "\n",
    "# Construct the API URL\n",
    "base_url = \"https://data.nasdaq.com/api/v3/datasets/FRED/GDP.json\"\n",
    "params = {\n",
    "    \"start_date\": \"2022-01-01\",\n",
    "    \"end_date\": \"2022-12-31\",\n",
    "    \"api_key\": API_KEY\n",
    "}\n",
    "\n",
    "# Make the API request\n",
    "response = requests.get(base_url, params=params)\n",
    "\n",
    "# Check if the request was successful\n",
    "if response.status_code == 200:\n",
    "    # Convert the JSON response to a Python dictionary\n",
    "    data = response.json()\n",
    "    \n",
    "    # Print the JSON structure\n",
    "    print(json.dumps(data, indent=2))\n",
    "else:\n",
    "    print(f\"Error: Unable to fetch data. Status code: {response.status_code}\")\n",
    "    print(f\"Response content: {response.text}\")"
   ],
   "outputs": [
    {
     "name": "stdout",
     "output_type": "stream",
     "text": [
      "Error: Unable to fetch data. Status code: 410\n",
      "Response content: Resource is no longer available. Path: /api/v3/datasets/FRED/GDP.json\n"
     ]
    }
   ],
   "execution_count": 6
  },
  {
   "metadata": {
    "ExecuteTime": {
     "end_time": "2024-09-28T17:11:47.698509Z",
     "start_time": "2024-09-28T17:11:47.694098Z"
    }
   },
   "cell_type": "code",
   "source": [
    "import os\n",
    "from dotenv import load_dotenv\n",
    "import json\n",
    "from datetime import datetime, timedelta\n",
    "API_KEY = os.getenv('ALPHA_VANTAGE_API_KEY')\n",
    "\n",
    "load_dotenv()"
   ],
   "outputs": [
    {
     "data": {
      "text/plain": [
       "True"
      ]
     },
     "execution_count": 24,
     "metadata": {},
     "output_type": "execute_result"
    }
   ],
   "execution_count": 24
  },
  {
   "metadata": {
    "ExecuteTime": {
     "end_time": "2024-09-28T16:54:05.956834Z",
     "start_time": "2024-09-28T16:54:04.872031Z"
    }
   },
   "cell_type": "code",
   "source": [
    "import requests\n",
    "base_url = \"https://www.alphavantage.co/query\"\n",
    "params = {\n",
    "    \"function\": \"TIME_SERIES_DAILY\",\n",
    "    \"symbol\": \"AFX.DEX\",  # AFX stock on the Deutsche Börse (similar to FSE)\n",
    "    \"outputsize\": \"full\",\n",
    "    \"apikey\": API_KEY\n",
    "}\n",
    "\n",
    "# Make the API request\n",
    "response = requests.get(base_url, params=params)\n",
    "\n",
    "# Check if the request was successful\n",
    "if response.status_code == 200:\n",
    "    # Convert the JSON response to a Python dictionary\n",
    "    data = response.json()\n",
    "    \n",
    "    # Extract data for 2017-01-02 (or the nearest available trading day)\n",
    "    time_series = data.get('Time Series (Daily)', {})\n",
    "    target_date = datetime(2017, 1, 2)\n",
    "    \n",
    "    while target_date.strftime('%Y-%m-%d') not in time_series:\n",
    "        target_date += timedelta(days=1)\n",
    "        if target_date.year > 2017:\n",
    "            print(\"No data found for the specified date range.\")\n",
    "            exit()\n",
    "\n",
    "    sample_data = {\n",
    "        target_date.strftime('%Y-%m-%d'): time_series[target_date.strftime('%Y-%m-%d')]\n",
    "    }\n",
    "    \n",
    "    # Create a structure similar to the original Nasdaq/Quandl API\n",
    "    formatted_data = {\n",
    "        \"dataset\": {\n",
    "            \"dataset_code\": \"AFX_X\",\n",
    "            \"database_code\": \"FSE\",\n",
    "            \"name\": \"AFX Stock Data\",\n",
    "            \"data\": [\n",
    "                [\n",
    "                    target_date.strftime('%Y-%m-%d'),\n",
    "                    float(sample_data[target_date.strftime('%Y-%m-%d')]['1. open']),\n",
    "                    float(sample_data[target_date.strftime('%Y-%m-%d')]['2. high']),\n",
    "                    float(sample_data[target_date.strftime('%Y-%m-%d')]['3. low']),\n",
    "                    float(sample_data[target_date.strftime('%Y-%m-%d')]['4. close']),\n",
    "                    int(float(sample_data[target_date.strftime('%Y-%m-%d')]['5. volume']))\n",
    "                ]\n",
    "            ],\n",
    "            \"column_names\": [\n",
    "                \"Date\",\n",
    "                \"Open\",\n",
    "                \"High\",\n",
    "                \"Low\",\n",
    "                \"Close\",\n",
    "                \"Volume\"\n",
    "            ]\n",
    "        }\n",
    "    }\n",
    "    \n",
    "    # Print the JSON structure\n",
    "    print(json.dumps(formatted_data, indent=2))\n",
    "else:\n",
    "    print(f\"Error: Unable to fetch data. Status code: {response.status_code}\")\n",
    "    print(f\"Response content: {response.text}\")"
   ],
   "outputs": [
    {
     "name": "stdout",
     "output_type": "stream",
     "text": [
      "{\n",
      "  \"dataset\": {\n",
      "    \"dataset_code\": \"AFX_X\",\n",
      "    \"database_code\": \"FSE\",\n",
      "    \"name\": \"AFX Stock Data\",\n",
      "    \"data\": [\n",
      "      [\n",
      "        \"2017-01-02\",\n",
      "        34.99,\n",
      "        35.94,\n",
      "        34.99,\n",
      "        35.8,\n",
      "        44700\n",
      "      ]\n",
      "    ],\n",
      "    \"column_names\": [\n",
      "      \"Date\",\n",
      "      \"Open\",\n",
      "      \"High\",\n",
      "      \"Low\",\n",
      "      \"Close\",\n",
      "      \"Volume\"\n",
      "    ]\n",
      "  }\n",
      "}\n"
     ]
    }
   ],
   "execution_count": 14
  },
  {
   "metadata": {
    "ExecuteTime": {
     "end_time": "2024-09-28T16:58:57.608177Z",
     "start_time": "2024-09-28T16:58:57.602901Z"
    }
   },
   "cell_type": "code",
   "source": [
    "import json\n",
    "from pprint import pprint\n",
    "\n",
    "# Inspect the JSON structure of the object you created, and take note of how nested it is,\n",
    "# as well as the overall structure\n",
    "json_data = {\n",
    "  \"dataset\": {\n",
    "    \"dataset_code\": \"AFX_X\",\n",
    "    \"database_code\": \"FSE\",\n",
    "    \"name\": \"Carl Zeiss Meditec (AFX_X)\",\n",
    "    \"description\": \"Stock Prices for Carl Zeiss Meditec (2020-11-02) from the Frankfurt Stock Exchange.<br><br>Trading System: Xetra<br><br>ISIN: DE0005313704\",\n",
    "    \"refreshed_at\": \"2020-12-01T14:48:09.907Z\",\n",
    "    \"newest_available_date\": \"2020-12-01\",\n",
    "    \"oldest_available_date\": \"2000-06-07\",\n",
    "    \"column_names\": [\n",
    "      \"Date\",\n",
    "      \"Open\",\n",
    "      \"High\",\n",
    "      \"Low\",\n",
    "      \"Close\",\n",
    "      \"Change\",\n",
    "      \"Traded Volume\",\n",
    "      \"Turnover\",\n",
    "      \"Last Price of the Day\",\n",
    "      \"Daily Traded Units\",\n",
    "      \"Daily Turnover\"\n",
    "    ],\n",
    "    \"frequency\": \"daily\",\n",
    "    \"type\": \"Time Series\",\n",
    "    \"premium\": False,\n",
    "    \"limit\": None,\n",
    "    \"transform\": None,\n",
    "    \"column_index\": None,\n",
    "    \"start_date\": \"2021-01-03\",\n",
    "    \"end_date\": \"2020-12-01\",\n",
    "    \"data\": [],\n",
    "    \"collapse\": None,\n",
    "    \"order\": None,\n",
    "    \"database_id\": 6129\n",
    "  }\n",
    "}\n",
    "\n",
    "# Add the missing 'id' field\n",
    "json_data['dataset']['id'] = 10095370\n",
    "\n",
    "# Pretty print the JSON structure\n",
    "pprint(json_data)"
   ],
   "outputs": [
    {
     "name": "stdout",
     "output_type": "stream",
     "text": [
      "{'dataset': {'collapse': None,\n",
      "             'column_index': None,\n",
      "             'column_names': ['Date',\n",
      "                              'Open',\n",
      "                              'High',\n",
      "                              'Low',\n",
      "                              'Close',\n",
      "                              'Change',\n",
      "                              'Traded Volume',\n",
      "                              'Turnover',\n",
      "                              'Last Price of the Day',\n",
      "                              'Daily Traded Units',\n",
      "                              'Daily Turnover'],\n",
      "             'data': [],\n",
      "             'database_code': 'FSE',\n",
      "             'database_id': 6129,\n",
      "             'dataset_code': 'AFX_X',\n",
      "             'description': 'Stock Prices for Carl Zeiss Meditec (2020-11-02) '\n",
      "                            'from the Frankfurt Stock Exchange.<br><br>Trading '\n",
      "                            'System: Xetra<br><br>ISIN: DE0005313704',\n",
      "             'end_date': '2020-12-01',\n",
      "             'frequency': 'daily',\n",
      "             'id': 10095370,\n",
      "             'limit': None,\n",
      "             'name': 'Carl Zeiss Meditec (AFX_X)',\n",
      "             'newest_available_date': '2020-12-01',\n",
      "             'oldest_available_date': '2000-06-07',\n",
      "             'order': None,\n",
      "             'premium': False,\n",
      "             'refreshed_at': '2020-12-01T14:48:09.907Z',\n",
      "             'start_date': '2021-01-03',\n",
      "             'transform': None,\n",
      "             'type': 'Time Series'}}\n"
     ]
    }
   ],
   "execution_count": 17
  },
  {
   "metadata": {},
   "cell_type": "markdown",
   "source": [
    "These are your tasks for this mini project:\n",
    "\n",
    "1. Collect data from the Franfurt Stock Exchange, for the ticker AFX_X, for the whole year 2017 (keep in mind that the date format is YYYY-MM-DD).\n",
    "2. Convert the returned JSON object into a Python dictionary.\n",
    "3. Calculate what the highest and lowest opening prices were for the stock in this period.\n",
    "4. What was the largest change in any one day (based on High and Low price)?\n",
    "5. What was the largest change between any two days (based on Closing Price)?\n",
    "6. What was the average daily trading volume during this year?\n",
    "7. (Optional) What was the median trading volume during this year. (Note: you may need to implement your own function for calculating the median.)"
   ]
  },
  {
   "cell_type": "code",
   "source": [
    "base_url = \"https://www.alphavantage.co/query\"\n",
    "params = {\n",
    "    \"function\": \"TIME_SERIES_DAILY\",\n",
    "    \"symbol\": \"AFX.DEX\",  # AFX stock on the Deutsche Börse (similar to FSE)\n",
    "    \"outputsize\": \"full\",\n",
    "    \"apikey\": \"API_KEY\"  \n",
    "}\n",
    "\n",
    "# 1. Collect data \n",
    "response = requests.get(base_url, params=params)\n",
    "\n",
    "# 2. Convert the returned JSON object into a Python dictionary\n",
    "if response.status_code == 200:\n",
    "    data = response.json()\n",
    "    \n",
    "    # Extract the time series data\n",
    "    time_series = data.get('Time Series (Daily)', {})\n",
    "    \n",
    "    # 3. Calculate the highest and lowest opening prices for 2017\n",
    "    opening_prices_2017 = [\n",
    "        float(daily_data['1. open'])\n",
    "        for date, daily_data in time_series.items()\n",
    "        if date.startswith('2017')\n",
    "    ]\n",
    "    \n",
    "    if opening_prices_2017:\n",
    "        highest_opening = max(opening_prices_2017)\n",
    "        lowest_opening = min(opening_prices_2017)\n",
    "        \n",
    "        print(f\"Highest opening price in 2017: {highest_opening}\")\n",
    "        print(f\"Lowest opening price in 2017: {lowest_opening}\")\n",
    "    else:\n",
    "        print(\"No opening price data available for 2017.\")\n",
    "    \n",
    "    # Print the first few rows of 2017 data to verify\n",
    "    print(\"\\nFirst few rows of 2017 data:\")\n",
    "    count = 0\n",
    "    for date, daily_data in time_series.items():\n",
    "        if date.startswith('2017'):\n",
    "            print(f\"{date}: Open: {daily_data['1. open']}\")\n",
    "            count += 1\n",
    "            if count == 5:\n",
    "                break\n",
    "else:\n",
    "    print(f\"Error fetching data: {response.status_code}\")\n",
    "    print(response.text)"
   ],
   "metadata": {
    "ExecuteTime": {
     "end_time": "2024-09-28T17:09:54.615405Z",
     "start_time": "2024-09-28T17:09:54.103323Z"
    }
   },
   "outputs": [
    {
     "name": "stdout",
     "output_type": "stream",
     "text": [
      "Highest opening price in 2017: 53.11\n",
      "Lowest opening price in 2017: 34.0\n",
      "\n",
      "First few rows of 2017 data:\n",
      "2017-12-29: Open: 51.7600\n",
      "2017-12-28: Open: 51.6500\n",
      "2017-12-27: Open: 51.4500\n",
      "2017-12-22: Open: 51.0500\n",
      "2017-12-21: Open: 51.1600\n"
     ]
    }
   ],
   "execution_count": 21
  },
  {
   "cell_type": "code",
   "source": [
    "import statistics\n",
    "if response.status_code == 200:\n",
    "    data = response.json()\n",
    "    \n",
    "    # Extract the time series data\n",
    "    time_series = data.get('Time Series (Daily)', {})\n",
    "    \n",
    "    # Filter data for 2017\n",
    "    data_2017 = {date: daily_data for date, daily_data in time_series.items() if date.startswith('2017')}\n",
    "    \n",
    "    # 3. Calculate the highest and lowest opening prices for 2017\n",
    "    opening_prices = [float(daily_data['1. open']) for daily_data in data_2017.values()]\n",
    "    highest_opening = max(opening_prices)\n",
    "    lowest_opening = min(opening_prices)\n",
    "    \n",
    "    print(f\"Highest opening price in 2017: {highest_opening}\")\n",
    "    print(f\"Lowest opening price in 2017: {lowest_opening}\")\n",
    "    \n",
    "    # 4. Largest change in any one day\n",
    "    daily_changes = [float(daily_data['2. high']) - float(daily_data['3. low']) for daily_data in data_2017.values()]\n",
    "    largest_daily_change = max(daily_changes)\n",
    "    print(f\"Largest change in any one day: {largest_daily_change}\")\n",
    "    \n",
    "    # 5. Largest change between any two days\n",
    "    closing_prices = [float(daily_data['4. close']) for daily_data in data_2017.values()]\n",
    "    closing_changes = [abs(closing_prices[i] - closing_prices[i+1]) for i in range(len(closing_prices)-1)]\n",
    "    largest_two_day_change = max(closing_changes)\n",
    "    print(f\"Largest change between any two days: {largest_two_day_change}\")\n",
    "    \n",
    "    # 6. Average daily trading volume\n",
    "    volumes = [int(daily_data['5. volume']) for daily_data in data_2017.values()]\n",
    "    avg_volume = sum(volumes) / len(volumes)\n",
    "    print(f\"Average daily trading volume: {avg_volume:.2f}\")\n",
    "    \n",
    "    # 7. Median trading volume\n",
    "    median_volume = statistics.median(volumes)\n",
    "    print(f\"Median trading volume: {median_volume}\")\n",
    "\n",
    "else:\n",
    "    print(f\"Error fetching data: {response.status_code}\")\n",
    "    print(response.text)"
   ],
   "metadata": {
    "ExecuteTime": {
     "end_time": "2024-09-28T17:11:02.630426Z",
     "start_time": "2024-09-28T17:11:02.621043Z"
    }
   },
   "outputs": [
    {
     "name": "stdout",
     "output_type": "stream",
     "text": [
      "Highest opening price in 2017: 53.11\n",
      "Lowest opening price in 2017: 34.0\n",
      "Largest change in any one day: 2.8100000000000023\n",
      "Largest change between any two days: 2.5549999999999997\n",
      "Average daily trading volume: 92684.38\n",
      "Median trading volume: 78178.0\n"
     ]
    }
   ],
   "execution_count": 23
  }
 ],
 "metadata": {
  "kernelspec": {
   "name": "python3",
   "display_name": "Python 3 (ipykernel)",
   "language": "python"
  },
  "language_info": {
   "codemirror_mode": {
    "name": "ipython",
    "version": 3
   },
   "file_extension": ".py",
   "mimetype": "text/x-python",
   "name": "python",
   "nbconvert_exporter": "python",
   "pygments_lexer": "ipython3",
   "version": "3.8.1"
  },
  "interpreter": {
   "hash": "7635eb1b9d0fe97add78a7368b6b431c09bb8ad5c42e437d64abdd99821c31ae"
  }
 },
 "nbformat": 4,
 "nbformat_minor": 4
}
