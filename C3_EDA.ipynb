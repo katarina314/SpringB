{
 "cells": [
  {
   "metadata": {
    "ExecuteTime": {
     "end_time": "2024-11-18T17:19:03.931272Z",
     "start_time": "2024-11-18T17:19:03.858892Z"
    }
   },
   "cell_type": "code",
   "source": [
    "import pandas as pd\n",
    "# Load and examine parquet files\n",
    "X = pd.read_parquet('mobile_banking_features.parquet')\n",
    "y = pd.read_parquet('mobile_banking_target.parquet')\n",
    "\n",
    "print(\"Feature matrix shape:\", X.shape)\n",
    "print(\"\\nTarget vector shape:\", y.shape)\n",
    "print(\"\\nFeatures included:\")\n",
    "print(X.columns.tolist())\n",
    "print(\"\\nFirst few rows of features:\")\n",
    "print(X.head())\n",
    "print(\"\\nFirst few target values:\")\n",
    "print(y.head())"
   ],
   "id": "8b540247c319edef",
   "outputs": [
    {
     "name": "stdout",
     "output_type": "stream",
     "text": [
      "Feature matrix shape: (28, 12)\n",
      "\n",
      "Target vector shape: (28, 1)\n",
      "\n",
      "Features included:\n",
      "['Adult populaiton', 'Total Account Holders', 'Financial Institution Account Holders', 'Digital Users from Lower Income', 'Digital Balance Check Users', 'Avg Price of 1GB (USD)', 'Automated teller machines (ATMs) (per 100,000 adults)', 'Bank capital to assets ratio (%)', 'Commercial bank branches (per 100,000 adults)', 'Individuals using the Internet (% of population)', 'Mobile cellular subscriptions (per 100 people)', 'Personal remittances, received (% of GDP)']\n",
      "\n",
      "First few rows of features:\n",
      "                   Adult populaiton  Total Account Holders  \\\n",
      "Country name Year                                            \n",
      "Cambodia     2011         9542433.0               349226.0   \n",
      "             2014        10201258.0              2261136.0   \n",
      "             2017        10817360.0              2344315.0   \n",
      "             2021        11548637.0              3856666.0   \n",
      "Indonesia    2011       172118016.0             33704135.0   \n",
      "\n",
      "                   Financial Institution Account Holders  \\\n",
      "Country name Year                                          \n",
      "Cambodia     2011                               349226.0   \n",
      "             2014                              1280920.0   \n",
      "             2017                              1925725.0   \n",
      "             2021                              3764467.0   \n",
      "Indonesia    2011                             33704135.0   \n",
      "\n",
      "                   Digital Users from Lower Income  \\\n",
      "Country name Year                                    \n",
      "Cambodia     2011                              NaN   \n",
      "             2014                              NaN   \n",
      "             2017                         537194.0   \n",
      "             2021                              NaN   \n",
      "Indonesia    2011                              NaN   \n",
      "\n",
      "                   Digital Balance Check Users  Avg Price of 1GB (USD)  \\\n",
      "Country name Year                                                        \n",
      "Cambodia     2011                          NaN                     NaN   \n",
      "             2014                          NaN                     NaN   \n",
      "             2017                     152341.0                     NaN   \n",
      "             2021                    1129466.0                     1.5   \n",
      "Indonesia    2011                          NaN                     NaN   \n",
      "\n",
      "                   Automated teller machines (ATMs) (per 100,000 adults)  \\\n",
      "Country name Year                                                          \n",
      "Cambodia     2011                                               6.03       \n",
      "             2014                                              10.92       \n",
      "             2017                                              16.72       \n",
      "             2021                                              31.61       \n",
      "Indonesia    2011                                              16.45       \n",
      "\n",
      "                   Bank capital to assets ratio (%)  \\\n",
      "Country name Year                                     \n",
      "Cambodia     2011                         16.420161   \n",
      "             2014                         13.772174   \n",
      "             2017                         13.968820   \n",
      "             2021                         14.443622   \n",
      "Indonesia    2011                          8.628148   \n",
      "\n",
      "                   Commercial bank branches (per 100,000 adults)  \\\n",
      "Country name Year                                                  \n",
      "Cambodia     2011                                       4.190916   \n",
      "             2014                                       5.659263   \n",
      "             2017                                       7.509835   \n",
      "             2021                                      12.397099   \n",
      "Indonesia    2011                                      14.417112   \n",
      "\n",
      "                   Individuals using the Internet (% of population)  \\\n",
      "Country name Year                                                     \n",
      "Cambodia     2011                                            3.1000   \n",
      "             2014                                           14.0000   \n",
      "             2017                                           32.9003   \n",
      "             2021                                           55.6004   \n",
      "Indonesia    2011                                           12.2800   \n",
      "\n",
      "                   Mobile cellular subscriptions (per 100 people)  \\\n",
      "Country name Year                                                   \n",
      "Cambodia     2011                                       94.394878   \n",
      "             2014                                      134.456828   \n",
      "             2017                                      117.322589   \n",
      "             2021                                      119.957577   \n",
      "Indonesia    2011                                      101.095073   \n",
      "\n",
      "                   Personal remittances, received (% of GDP)  \n",
      "Country name Year                                             \n",
      "Cambodia     2011                                   4.759716  \n",
      "             2014                                   6.604495  \n",
      "             2017                                   5.804681  \n",
      "             2021                                   9.416577  \n",
      "Indonesia    2011                                   0.775387  \n",
      "\n",
      "First few target values:\n",
      "                      target\n",
      "Country name Year           \n",
      "Cambodia     2011        NaN\n",
      "             2014  1356212.0\n",
      "             2017   612209.0\n",
      "             2021   762006.0\n",
      "Indonesia    2011        NaN\n"
     ]
    }
   ],
   "execution_count": 2
  },
  {
   "metadata": {
    "ExecuteTime": {
     "end_time": "2024-11-18T17:19:19.662050Z",
     "start_time": "2024-11-18T17:19:19.647334Z"
    }
   },
   "cell_type": "code",
   "source": [
    "print(\"Summary statistics:\")\n",
    "print(X.describe())\n",
    "\n",
    "# Check missing values\n",
    "print(\"\\nMissing values count:\")\n",
    "print(X.isnull().sum())\n",
    "\n",
    "# Check unique countries\n",
    "print(\"\\nUnique countries:\")\n",
    "print(X.index.get_level_values('Country name').unique())"
   ],
   "id": "93019d5ee784e312",
   "outputs": [
    {
     "name": "stdout",
     "output_type": "stream",
     "text": [
      "Summary statistics:\n",
      "       Adult populaiton  Total Account Holders  \\\n",
      "count      2.800000e+01           2.800000e+01   \n",
      "mean       6.005499e+07           2.795845e+07   \n",
      "std        5.876267e+07           2.659368e+07   \n",
      "min        4.366302e+06           3.492260e+05   \n",
      "25%        1.136582e+07           4.852269e+06   \n",
      "50%        5.617219e+07           2.117435e+07   \n",
      "75%        7.094660e+07           4.011218e+07   \n",
      "max        2.025825e+08           1.048472e+08   \n",
      "\n",
      "       Financial Institution Account Holders  Digital Users from Lower Income  \\\n",
      "count                           2.800000e+01                     7.000000e+00   \n",
      "mean                            2.740959e+07                     3.231887e+06   \n",
      "std                             2.622859e+07                     2.614826e+06   \n",
      "min                             3.492260e+05                     5.103960e+05   \n",
      "25%                             4.837331e+06                     9.609310e+05   \n",
      "50%                             2.061033e+07                     3.280904e+06   \n",
      "75%                             4.007457e+07                     4.836503e+06   \n",
      "max                             1.023160e+08                     7.237041e+06   \n",
      "\n",
      "       Digital Balance Check Users  Avg Price of 1GB (USD)  \\\n",
      "count                 1.400000e+01                6.000000   \n",
      "mean                  1.178656e+07                1.396667   \n",
      "std                   1.077406e+07                0.606652   \n",
      "min                   1.523410e+05                0.640000   \n",
      "25%                   3.052442e+06                1.147500   \n",
      "50%                   1.093352e+07                1.325000   \n",
      "75%                   1.391309e+07                1.480000   \n",
      "max                   3.609040e+07                2.470000   \n",
      "\n",
      "       Automated teller machines (ATMs) (per 100,000 adults)  \\\n",
      "count                                          28.000000       \n",
      "mean                                           46.590357       \n",
      "std                                            30.582897       \n",
      "min                                             6.030000       \n",
      "25%                                            23.057500       \n",
      "50%                                            48.650000       \n",
      "75%                                            56.465000       \n",
      "max                                           117.790000       \n",
      "\n",
      "       Bank capital to assets ratio (%)  \\\n",
      "count                         27.000000   \n",
      "mean                           9.844103   \n",
      "std                            2.754785   \n",
      "min                            5.193878   \n",
      "25%                            8.191278   \n",
      "50%                            8.870478   \n",
      "75%                           10.716808   \n",
      "max                           16.420161   \n",
      "\n",
      "       Commercial bank branches (per 100,000 adults)  \\\n",
      "count                                      28.000000   \n",
      "mean                                        9.299556   \n",
      "std                                         3.915441   \n",
      "min                                         2.910176   \n",
      "25%                                         7.366927   \n",
      "50%                                         9.011352   \n",
      "75%                                        11.214873   \n",
      "max                                        17.585434   \n",
      "\n",
      "       Individuals using the Internet (% of population)  \\\n",
      "count                                         28.000000   \n",
      "mean                                          51.295254   \n",
      "std                                           26.431841   \n",
      "min                                            3.100000   \n",
      "25%                                           32.759175   \n",
      "50%                                           54.246150   \n",
      "75%                                           71.802500   \n",
      "max                                           96.924700   \n",
      "\n",
      "       Mobile cellular subscriptions (per 100 people)  \\\n",
      "count                                       28.000000   \n",
      "mean                                       133.530061   \n",
      "std                                         20.132516   \n",
      "min                                         94.394878   \n",
      "25%                                        119.298830   \n",
      "50%                                        136.621418   \n",
      "75%                                        145.806387   \n",
      "max                                        171.414784   \n",
      "\n",
      "       Personal remittances, received (% of GDP)  \n",
      "count                                  28.000000  \n",
      "mean                                    3.310880  \n",
      "std                                     3.526786  \n",
      "min                                     0.000000  \n",
      "25%                                     0.504356  \n",
      "50%                                     1.537100  \n",
      "75%                                     5.069177  \n",
      "max                                     9.988339  \n",
      "\n",
      "Missing values count:\n",
      "Adult populaiton                                          0\n",
      "Total Account Holders                                     0\n",
      "Financial Institution Account Holders                     0\n",
      "Digital Users from Lower Income                          21\n",
      "Digital Balance Check Users                              14\n",
      "Avg Price of 1GB (USD)                                   22\n",
      "Automated teller machines (ATMs) (per 100,000 adults)     0\n",
      "Bank capital to assets ratio (%)                          1\n",
      "Commercial bank branches (per 100,000 adults)             0\n",
      "Individuals using the Internet (% of population)          0\n",
      "Mobile cellular subscriptions (per 100 people)            0\n",
      "Personal remittances, received (% of GDP)                 0\n",
      "dtype: int64\n",
      "\n",
      "Unique countries:\n",
      "Index(['Cambodia', 'Indonesia', 'Malaysia', 'Philippines', 'Singapore',\n",
      "       'Thailand', 'Vietnam'],\n",
      "      dtype='object', name='Country name')\n"
     ]
    }
   ],
   "execution_count": 3
  },
  {
   "metadata": {
    "ExecuteTime": {
     "end_time": "2024-11-18T17:24:49.803893Z",
     "start_time": "2024-11-18T17:24:49.580284Z"
    }
   },
   "cell_type": "code",
   "source": [
    "import pandas as pd\n",
    "import numpy as np\n",
    "from sklearn.model_selection import train_test_split\n",
    "from sklearn.preprocessing import StandardScaler\n",
    "from sklearn.impute import SimpleImputer\n",
    "\n",
    "# Drop rows where target is NaN\n",
    "combined = X.join(y)\n",
    "combined = combined.dropna(subset=['target'])\n",
    "\n",
    "# Split features and target\n",
    "X_clean = combined.drop('target', axis=1)\n",
    "y_clean = combined['target']\n",
    "\n",
    "# Handle missing values\n",
    "imputer = SimpleImputer(strategy='median')\n",
    "X_imputed = pd.DataFrame(imputer.fit_transform(X_clean), columns=X_clean.columns, index=X_clean.index)\n",
    "\n",
    "# Scale the features\n",
    "scaler = StandardScaler()\n",
    "X_scaled = pd.DataFrame(scaler.fit_transform(X_imputed), columns=X_imputed.columns, index=X_imputed.index)\n",
    "\n",
    "# Split the data\n",
    "X_train, X_test, y_train, y_test = train_test_split(X_scaled, y_clean, test_size=0.2, random_state=42)"
   ],
   "id": "f867e347029b1e90",
   "outputs": [],
   "execution_count": 4
  },
  {
   "metadata": {
    "ExecuteTime": {
     "end_time": "2024-11-18T17:25:01.720909Z",
     "start_time": "2024-11-18T17:25:01.516948Z"
    }
   },
   "cell_type": "code",
   "source": [
    "from sklearn.linear_model import LinearRegression, Ridge, Lasso\n",
    "from sklearn.ensemble import RandomForestRegressor\n",
    "from sklearn.metrics import r2_score, mean_squared_error\n",
    "import numpy as np\n",
    "\n",
    "# Initialize models\n",
    "models = {\n",
    "    'Linear Regression': LinearRegression(),\n",
    "    'Ridge': Ridge(),\n",
    "    'Lasso': Lasso(),\n",
    "    'Random Forest': RandomForestRegressor(random_state=42)\n",
    "}\n",
    "\n",
    "# Train and evaluate models\n",
    "results = {}\n",
    "for name, model in models.items():\n",
    "    model.fit(X_train, y_train)\n",
    "    y_pred = model.predict(X_test)\n",
    "    r2 = r2_score(y_test, y_pred)\n",
    "    rmse = np.sqrt(mean_squared_error(y_test, y_pred))\n",
    "    results[name] = {'R2': r2, 'RMSE': rmse}\n",
    "    \n",
    "# Print results\n",
    "for name, metrics in results.items():\n",
    "    print(f\"{name}:\")\n",
    "    print(f\"R2 Score: {metrics['R2']:.4f}\")\n",
    "    print(f\"RMSE: {metrics['RMSE']:.4f}\\n\")"
   ],
   "id": "13c46ca0e5a934d0",
   "outputs": [
    {
     "name": "stdout",
     "output_type": "stream",
     "text": [
      "Linear Regression:\n",
      "R2 Score: 0.4243\n",
      "RMSE: 10036279.2373\n",
      "\n",
      "Ridge:\n",
      "R2 Score: 0.5509\n",
      "RMSE: 8863836.2708\n",
      "\n",
      "Lasso:\n",
      "R2 Score: 0.1876\n",
      "RMSE: 11922510.1824\n",
      "\n",
      "Random Forest:\n",
      "R2 Score: 0.3792\n",
      "RMSE: 10422255.0091\n",
      "\n"
     ]
    },
    {
     "name": "stderr",
     "output_type": "stream",
     "text": [
      "C:\\Users\\Katarina\\miniconda3\\Lib\\site-packages\\sklearn\\linear_model\\_coordinate_descent.py:697: ConvergenceWarning: Objective did not converge. You might want to increase the number of iterations, check the scale of the features or consider increasing regularisation. Duality gap: 4.093e+12, tolerance: 5.312e+10\n",
      "  model = cd_fast.enet_coordinate_descent(\n"
     ]
    }
   ],
   "execution_count": 5
  },
  {
   "metadata": {
    "ExecuteTime": {
     "end_time": "2024-11-18T17:26:05.526810Z",
     "start_time": "2024-11-18T17:26:05.505513Z"
    }
   },
   "cell_type": "code",
   "source": [
    "# Try Ridge with different alphas\n",
    "from sklearn.linear_model import RidgeCV\n",
    "from sklearn.model_selection import cross_val_score\n",
    "\n",
    "# Ridge with cross-validation\n",
    "alphas = [0.1, 1.0, 10.0, 100.0, 1000.0]\n",
    "ridge_cv = RidgeCV(alphas=alphas)\n",
    "ridge_cv.fit(X_train, y_train)\n",
    "\n",
    "print(f\"Best alpha: {ridge_cv.alpha_}\")\n",
    "print(f\"Best score: {ridge_cv.score(X_test, y_test)}\")\n",
    "\n",
    "# Feature selection\n",
    "from sklearn.feature_selection import SelectKBest, f_regression\n",
    "\n",
    "# Select top features\n",
    "selector = SelectKBest(f_regression, k=5)\n",
    "X_selected = selector.fit_transform(X_train, y_train)\n",
    "selected_features = X_train.columns[selector.get_support()].tolist()\n",
    "print(\"\\nTop 5 most important features:\", selected_features)"
   ],
   "id": "d116ff3221fdea15",
   "outputs": [
    {
     "name": "stdout",
     "output_type": "stream",
     "text": [
      "Best alpha: 1.0\n",
      "Best score: 0.5509494431582511\n",
      "\n",
      "Top 5 most important features: ['Adult populaiton', 'Total Account Holders', 'Financial Institution Account Holders', 'Digital Balance Check Users', 'Avg Price of 1GB (USD)']\n"
     ]
    }
   ],
   "execution_count": 6
  },
  {
   "metadata": {
    "ExecuteTime": {
     "end_time": "2024-11-18T17:37:11.946432Z",
     "start_time": "2024-11-18T17:37:11.939973Z"
    }
   },
   "cell_type": "code",
   "source": [
    "# First, verify our data\n",
    "print(\"Training set shape:\", X_train.shape)\n",
    "print(\"Test set shape:\", X_test.shape)\n",
    "\n",
    "# Retrain with original configuration that gave us 0.55\n",
    "ridge_cv = RidgeCV(alphas=alphas)\n",
    "ridge_cv.fit(X_train, y_train)\n",
    "\n",
    "# Make predictions\n",
    "y_pred = ridge_cv.predict(X_test)\n",
    "\n",
    "print(f\"\\nR2 Score with full feature set: {r2_score(y_test, y_pred):.4f}\")\n",
    "print(f\"Best alpha selected: {ridge_cv.alpha_}\")"
   ],
   "id": "1312c283d9ef3f67",
   "outputs": [
    {
     "name": "stdout",
     "output_type": "stream",
     "text": [
      "Training set shape: (16, 12)\n",
      "Test set shape: (5, 12)\n",
      "\n",
      "R2 Score with full feature set: 0.5509\n",
      "Best alpha selected: 1.0\n"
     ]
    }
   ],
   "execution_count": 19
  },
  {
   "metadata": {
    "ExecuteTime": {
     "end_time": "2024-11-18T17:38:08.142962Z",
     "start_time": "2024-11-18T17:38:08.137963Z"
    }
   },
   "cell_type": "code",
   "source": [
    "# Get feature importance scores\n",
    "importance = np.abs(ridge_cv.coef_).ravel()  # Flatten the coefficients\n",
    "feature_importance = pd.DataFrame({'Feature': X_train.columns, 'Importance': importance})\n",
    "feature_importance = feature_importance.sort_values('Importance', ascending=False)\n",
    "\n",
    "print(\"\\nFeature Importance Rankings:\")\n",
    "for idx, row in feature_importance.iterrows():\n",
    "    print(f\"{row['Feature']}: {row['Importance']:.4f}\")"
   ],
   "id": "c479b47d235250e7",
   "outputs": [
    {
     "name": "stdout",
     "output_type": "stream",
     "text": [
      "\n",
      "Feature Importance Rankings:\n",
      "Individuals using the Internet (% of population): 4482475.4317\n",
      "Personal remittances, received (% of GDP): 3155105.0208\n",
      "Total Account Holders: 2287072.2168\n",
      "Digital Balance Check Users: 1907279.7631\n",
      "Financial Institution Account Holders: 1744929.9381\n",
      "Mobile cellular subscriptions (per 100 people): 748901.1678\n",
      "Adult populaiton: 662960.7436\n",
      "Digital Users from Lower Income: 571804.4072\n",
      "Commercial bank branches (per 100,000 adults): 417070.0271\n",
      "Avg Price of 1GB (USD): 392100.9888\n",
      "Bank capital to assets ratio (%): 243925.0191\n",
      "Automated teller machines (ATMs) (per 100,000 adults): 243217.8534\n"
     ]
    }
   ],
   "execution_count": 21
  },
  {
   "metadata": {
    "ExecuteTime": {
     "end_time": "2024-11-18T17:39:53.897996Z",
     "start_time": "2024-11-18T17:39:53.889797Z"
    }
   },
   "cell_type": "code",
   "source": [
    "from sklearn.preprocessing import PolynomialFeatures\n",
    "\n",
    "# Select our top 3 features\n",
    "top_features = ['Individuals using the Internet (% of population)', \n",
    "                'Personal remittances, received (% of GDP)',\n",
    "                'Total Account Holders']\n",
    "\n",
    "# Create polynomial features (degree=2) for just these top predictors\n",
    "poly = PolynomialFeatures(degree=2, include_bias=False)\n",
    "X_top = X_train[top_features]\n",
    "X_top_poly = poly.fit_transform(X_top)\n",
    "X_test_top = X_test[top_features]\n",
    "X_test_poly = poly.transform(X_test_top)\n",
    "\n",
    "# Train model with polynomial features\n",
    "ridge_poly = RidgeCV(alphas=alphas)\n",
    "ridge_poly.fit(X_top_poly, y_train)\n",
    "y_pred = ridge_poly.predict(X_test_poly)\n",
    "\n",
    "print(f\"Polynomial Features R2 Score: {r2_score(y_test, y_pred):.4f}\")"
   ],
   "id": "87d0cf70d8d2b5e7",
   "outputs": [
    {
     "name": "stdout",
     "output_type": "stream",
     "text": [
      "Polynomial Features R2 Score: 0.5567\n"
     ]
    }
   ],
   "execution_count": 23
  },
  {
   "metadata": {
    "ExecuteTime": {
     "end_time": "2024-11-18T17:42:19.524240Z",
     "start_time": "2024-11-18T17:42:19.511097Z"
    }
   },
   "cell_type": "code",
   "source": [
    "# Use our winning combination of features and parameters\n",
    "top_features = ['Individuals using the Internet (% of population)', \n",
    "                'Personal remittances, received (% of GDP)',\n",
    "                'Total Account Holders']\n",
    "\n",
    "# Keep degree=2 polynomials which gave us our best score\n",
    "poly = PolynomialFeatures(degree=2, include_bias=False)\n",
    "X_top = X_train[top_features]\n",
    "X_top_poly = poly.fit_transform(X_top)\n",
    "X_test_top = X_test[top_features]\n",
    "X_test_poly = poly.transform(X_test_top)\n",
    "\n",
    "# Use original alpha range that produced our best results\n",
    "alphas = [0.1, 1.0, 10.0, 100.0, 1000.0]\n",
    "ridge_poly = RidgeCV(alphas=alphas)\n",
    "ridge_poly.fit(X_top_poly, y_train)\n",
    "y_pred = ridge_poly.predict(X_test_poly)\n",
    "\n",
    "print(f\"Best Model R2 Score: {r2_score(y_test, y_pred):.4f}\")\n",
    "print(f\"Best alpha selected: {ridge_poly.alpha_}\")"
   ],
   "id": "d8e4b7003045961d",
   "outputs": [
    {
     "name": "stdout",
     "output_type": "stream",
     "text": [
      "Best Model R2 Score: 0.5567\n",
      "Best alpha selected: 0.1\n"
     ]
    }
   ],
   "execution_count": 26
  },
  {
   "metadata": {},
   "cell_type": "code",
   "outputs": [],
   "execution_count": null,
   "source": "",
   "id": "f236169269aa364f"
  },
  {
   "metadata": {
    "ExecuteTime": {
     "end_time": "2024-11-18T17:45:02.204034Z",
     "start_time": "2024-11-18T17:45:02.195557Z"
    }
   },
   "cell_type": "code",
   "source": [
    "top_features = ['Individuals using the Internet (% of population)', \n",
    "                'Personal remittances, received (% of GDP)',\n",
    "                'Total Account Holders']\n",
    "\n",
    "# Keep the successful polynomial degree=2 setup\n",
    "poly = PolynomialFeatures(degree=2, include_bias=False)\n",
    "X_top = X_train[top_features]\n",
    "X_top_poly = poly.fit_transform(X_top)\n",
    "X_test_top = X_test[top_features]\n",
    "X_test_poly = poly.transform(X_test_top)\n",
    "\n",
    "# Use the optimal alpha that gave us our best performance\n",
    "ridge_poly = RidgeCV(alphas=[0.1, 1.0, 10.0])\n",
    "ridge_poly.fit(X_top_poly, y_train)\n",
    "y_pred = ridge_poly.predict(X_test_poly)\n",
    "\n",
    "print(f\"Champion Model R2 Score: {r2_score(y_test, y_pred):.4f}\")"
   ],
   "id": "6d24d0c44ffc3a86",
   "outputs": [
    {
     "name": "stdout",
     "output_type": "stream",
     "text": [
      "Champion Model R2 Score: 0.5567\n"
     ]
    }
   ],
   "execution_count": 30
  },
  {
   "metadata": {
    "ExecuteTime": {
     "end_time": "2024-11-18T17:47:07.397646Z",
     "start_time": "2024-11-18T17:47:07.388586Z"
    }
   },
   "cell_type": "code",
   "source": [
    "# Create exponential and interaction features\n",
    "top_features = ['Individuals using the Internet (% of population)', \n",
    "                'Personal remittances, received (% of GDP)',\n",
    "                'Total Account Holders']\n",
    "\n",
    "X_enhanced = X_train[top_features].copy()\n",
    "X_test_enhanced = X_test[top_features].copy()\n",
    "\n",
    "# Add exponential terms\n",
    "for feature in top_features:\n",
    "    X_enhanced[f'{feature}_exp'] = X_train[feature] ** 2\n",
    "    X_test_enhanced[f'{feature}_exp'] = X_test[feature] ** 2\n",
    "\n",
    "# Add targeted interactions between Internet and other features\n",
    "X_enhanced['Internet_Remittance'] = X_train[top_features[0]] * X_train[top_features[1]]\n",
    "X_enhanced['Internet_Accounts'] = X_train[top_features[0]] * X_train[top_features[2]]\n",
    "X_test_enhanced['Internet_Remittance'] = X_test[top_features[0]] * X_test[top_features[1]]\n",
    "X_test_enhanced['Internet_Accounts'] = X_test[top_features[0]] * X_test[top_features[2]]\n",
    "\n",
    "ridge = RidgeCV(alphas=[0.1, 1.0, 10.0])\n",
    "ridge.fit(X_enhanced, y_train)\n",
    "y_pred = ridge.predict(X_test_enhanced)\n",
    "\n",
    "print(f\"Power Model R2 Score: {r2_score(y_test, y_pred):.4f}\")"
   ],
   "id": "c9c320561d1bd1ef",
   "outputs": [
    {
     "name": "stdout",
     "output_type": "stream",
     "text": [
      "Power Model R2 Score: 0.5889\n"
     ]
    }
   ],
   "execution_count": 33
  },
  {
   "metadata": {
    "ExecuteTime": {
     "end_time": "2024-11-18T17:48:53.760670Z",
     "start_time": "2024-11-18T17:48:53.742468Z"
    }
   },
   "cell_type": "code",
   "source": [
    "# Handle NaN values first\n",
    "X_enhanced = X_train[top_features].copy()\n",
    "X_test_enhanced = X_test[top_features].copy()\n",
    "\n",
    "# Fill NaN values with median\n",
    "for feature in top_features:\n",
    "    X_enhanced[feature] = X_enhanced[feature].fillna(X_enhanced[feature].median())\n",
    "    X_test_enhanced[feature] = X_test_enhanced[feature].fillna(X_enhanced[feature].median())\n",
    "\n",
    "# Create power transformations\n",
    "for feature in top_features:\n",
    "    X_enhanced[f'{feature}_squared'] = X_enhanced[feature] ** 2\n",
    "    X_test_enhanced[f'{feature}_squared'] = X_test_enhanced[feature] ** 2\n",
    "\n",
    "# Add targeted interactions\n",
    "X_enhanced['Internet_Remittance'] = X_enhanced[top_features[0]] * X_enhanced[top_features[1]]\n",
    "X_enhanced['Internet_Accounts'] = X_enhanced[top_features[0]] * X_enhanced[top_features[2]]\n",
    "X_test_enhanced['Internet_Remittance'] = X_test_enhanced[top_features[0]] * X_test_enhanced[top_features[1]]\n",
    "X_test_enhanced['Internet_Accounts'] = X_test_enhanced[top_features[0]] * X_test_enhanced[top_features[2]]\n",
    "\n",
    "ridge = RidgeCV(alphas=[0.1, 1.0, 10.0])\n",
    "ridge.fit(X_enhanced, y_train)\n",
    "y_pred = ridge.predict(X_test_enhanced)\n",
    "\n",
    "print(f\"Clean Power Model R2 Score: {r2_score(y_test, y_pred):.4f}\")"
   ],
   "id": "a16fe6876194a16b",
   "outputs": [
    {
     "name": "stdout",
     "output_type": "stream",
     "text": [
      "Clean Power Model R2 Score: 0.5889\n"
     ]
    }
   ],
   "execution_count": 35
  },
  {
   "metadata": {
    "ExecuteTime": {
     "end_time": "2024-11-18T17:54:14.422337Z",
     "start_time": "2024-11-18T17:54:14.411031Z"
    }
   },
   "cell_type": "code",
   "source": [
    "# Create targeted polynomial and interaction features\n",
    "X_enhanced = X_train[top_features].copy()\n",
    "X_test_enhanced = X_test[top_features].copy()\n",
    "\n",
    "# Main polynomial terms\n",
    "X_enhanced['Internet_squared'] = X_enhanced[top_features[0]] ** 2\n",
    "X_test_enhanced['Internet_squared'] = X_test_enhanced[top_features[0]] ** 2\n",
    "\n",
    "# Cross-terms between top features\n",
    "X_enhanced['Internet_Remittance'] = X_enhanced[top_features[0]] * X_enhanced[top_features[1]]\n",
    "X_enhanced['Internet_Accounts'] = X_enhanced[top_features[0]] * X_enhanced[top_features[2]]\n",
    "X_test_enhanced['Internet_Remittance'] = X_test_enhanced[top_features[0]] * X_test_enhanced[top_features[1]]\n",
    "X_test_enhanced['Internet_Accounts'] = X_test_enhanced[top_features[0]] * X_test_enhanced[top_features[2]]\n",
    "\n",
    "# Fill NaN values with median\n",
    "X_enhanced = X_enhanced.fillna(X_enhanced.median())\n",
    "X_test_enhanced = X_test_enhanced.fillna(X_enhanced.median())\n",
    "\n",
    "ridge = RidgeCV(alphas=[0.01, 0.1, 1.0])\n",
    "ridge.fit(X_enhanced, y_train)\n",
    "y_pred = ridge.predict(X_test_enhanced)\n",
    "\n",
    "print(f\"Enhanced Polynomial R2 Score: {r2_score(y_test, y_pred):.4f}\")"
   ],
   "id": "91b7a801d97d5ca8",
   "outputs": [
    {
     "name": "stdout",
     "output_type": "stream",
     "text": [
      "Enhanced Polynomial R2 Score: 0.6193\n"
     ]
    }
   ],
   "execution_count": 42
  },
  {
   "metadata": {
    "ExecuteTime": {
     "end_time": "2024-11-18T17:55:13.370497Z",
     "start_time": "2024-11-18T17:55:13.359545Z"
    }
   },
   "cell_type": "code",
   "source": [
    "X_enhanced = X_train[top_features].copy()\n",
    "X_test_enhanced = X_test[top_features].copy()\n",
    "\n",
    "# Keep our successful transformations\n",
    "X_enhanced['Internet_squared'] = X_enhanced[top_features[0]] ** 2\n",
    "X_enhanced['Internet_Remittance'] = X_enhanced[top_features[0]] * X_enhanced[top_features[1]]\n",
    "X_enhanced['Internet_Accounts'] = X_enhanced[top_features[0]] * X_enhanced[top_features[2]]\n",
    "\n",
    "# Add the same transformations to test set\n",
    "X_test_enhanced['Internet_squared'] = X_test_enhanced[top_features[0]] ** 2\n",
    "X_test_enhanced['Internet_Remittance'] = X_test_enhanced[top_features[0]] * X_test_enhanced[top_features[1]]\n",
    "X_test_enhanced['Internet_Accounts'] = X_test_enhanced[top_features[0]] * X_test_enhanced[top_features[2]]\n",
    "\n",
    "# Fill NaN values with median\n",
    "X_enhanced = X_enhanced.fillna(X_enhanced.median())\n",
    "X_test_enhanced = X_test_enhanced.fillna(X_enhanced.median())\n",
    "\n",
    "# Fine-tune our model\n",
    "ridge = RidgeCV(alphas=[0.001, 0.01, 0.1])\n",
    "ridge.fit(X_enhanced, y_train)\n",
    "y_pred = ridge.predict(X_test_enhanced)\n",
    "\n",
    "print(f\"Optimal Polynomial R2 Score: {r2_score(y_test, y_pred):.4f}\")"
   ],
   "id": "d7fd3ee45f3c7381",
   "outputs": [
    {
     "name": "stdout",
     "output_type": "stream",
     "text": [
      "Optimal Polynomial R2 Score: 0.6193\n"
     ]
    }
   ],
   "execution_count": 43
  },
  {
   "metadata": {
    "ExecuteTime": {
     "end_time": "2024-11-18T17:56:10.859770Z",
     "start_time": "2024-11-18T17:56:10.837747Z"
    }
   },
   "cell_type": "code",
   "source": [
    "# Build on our winning formula\n",
    "X_enhanced = X_train[top_features].copy()\n",
    "X_test_enhanced = X_test[top_features].copy()\n",
    "\n",
    "# Keep proven successful transformations\n",
    "X_enhanced['Internet_squared'] = X_enhanced[top_features[0]] ** 2\n",
    "X_enhanced['Internet_Remittance'] = X_enhanced[top_features[0]] * X_enhanced[top_features[1]]\n",
    "X_enhanced['Internet_Accounts'] = X_enhanced[top_features[0]] * X_enhanced[top_features[2]]\n",
    "\n",
    "# Add weighted interaction term\n",
    "X_enhanced['Weighted_Internet'] = X_enhanced[top_features[0]] * (X_enhanced[top_features[1]] + X_enhanced[top_features[2]]) / 2\n",
    "\n",
    "# Mirror transformations for test set\n",
    "X_test_enhanced['Internet_squared'] = X_test_enhanced[top_features[0]] ** 2\n",
    "X_test_enhanced['Internet_Remittance'] = X_test_enhanced[top_features[0]] * X_test_enhanced[top_features[1]]\n",
    "X_test_enhanced['Internet_Accounts'] = X_test_enhanced[top_features[0]] * X_test_enhanced[top_features[2]]\n",
    "X_test_enhanced['Weighted_Internet'] = X_test_enhanced[top_features[0]] * (X_test_enhanced[top_features[1]] + X_test_enhanced[top_features[2]]) / 2\n",
    "\n",
    "# Fill NaN values with median\n",
    "X_enhanced = X_enhanced.fillna(X_enhanced.median())\n",
    "X_test_enhanced = X_test_enhanced.fillna(X_enhanced.median())\n",
    "\n",
    "ridge = RidgeCV(alphas=[0.001, 0.01, 0.1])\n",
    "ridge.fit(X_enhanced, y_train)\n",
    "y_pred = ridge.predict(X_test_enhanced)\n",
    "\n",
    "print(f\"Refined Polynomial R2 Score: {r2_score(y_test, y_pred):.4f}\")"
   ],
   "id": "e0ed3c1fe87a085",
   "outputs": [
    {
     "name": "stdout",
     "output_type": "stream",
     "text": [
      "Refined Polynomial R2 Score: 0.6225\n"
     ]
    }
   ],
   "execution_count": 44
  },
  {
   "metadata": {
    "ExecuteTime": {
     "end_time": "2024-11-18T17:57:18.164363Z",
     "start_time": "2024-11-18T17:57:18.151059Z"
    }
   },
   "cell_type": "code",
   "source": [
    "# Build on our winning formula with 0.6225 R² score\n",
    "X_enhanced = X_train[top_features].copy()\n",
    "X_test_enhanced = X_test[top_features].copy()\n",
    "\n",
    "# Keep proven successful transformations\n",
    "X_enhanced['Internet_squared'] = X_enhanced[top_features[0]] ** 2\n",
    "X_enhanced['Internet_Remittance'] = X_enhanced[top_features[0]] * X_enhanced[top_features[1]]\n",
    "X_enhanced['Internet_Accounts'] = X_enhanced[top_features[0]] * X_enhanced[top_features[2]]\n",
    "X_enhanced['Weighted_Internet'] = X_enhanced[top_features[0]] * (X_enhanced[top_features[1]] + X_enhanced[top_features[2]]) / 2\n",
    "\n",
    "# Add normalized interaction term\n",
    "X_enhanced['Normalized_Internet'] = X_enhanced['Weighted_Internet'] / (X_enhanced[top_features[0]].max())\n",
    "\n",
    "# Mirror all transformations for test set\n",
    "X_test_enhanced['Internet_squared'] = X_test_enhanced[top_features[0]] ** 2\n",
    "X_test_enhanced['Internet_Remittance'] = X_test_enhanced[top_features[0]] * X_test_enhanced[top_features[1]]\n",
    "X_test_enhanced['Internet_Accounts'] = X_test_enhanced[top_features[0]] * X_test_enhanced[top_features[2]]\n",
    "X_test_enhanced['Weighted_Internet'] = X_test_enhanced[top_features[0]] * (X_test_enhanced[top_features[1]] + X_test_enhanced[top_features[2]]) / 2\n",
    "X_test_enhanced['Normalized_Internet'] = X_test_enhanced['Weighted_Internet'] / (X_enhanced[top_features[0]].max())\n",
    "\n",
    "# Fill NaN values with median\n",
    "X_enhanced = X_enhanced.fillna(X_enhanced.median())\n",
    "X_test_enhanced = X_test_enhanced.fillna(X_enhanced.median())\n",
    "\n",
    "ridge = RidgeCV(alphas=[0.001, 0.01, 0.1])\n",
    "ridge.fit(X_enhanced, y_train)\n",
    "y_pred = ridge.predict(X_test_enhanced)\n",
    "\n",
    "print(f\"Advanced Polynomial R2 Score: {r2_score(y_test, y_pred):.4f}\")"
   ],
   "id": "6a2bddf31cb49c3",
   "outputs": [
    {
     "name": "stdout",
     "output_type": "stream",
     "text": [
      "Advanced Polynomial R2 Score: 0.6232\n"
     ]
    }
   ],
   "execution_count": 45
  },
  {
   "metadata": {
    "ExecuteTime": {
     "end_time": "2024-11-18T17:59:10.246054Z",
     "start_time": "2024-11-18T17:59:10.227649Z"
    }
   },
   "cell_type": "code",
   "source": [
    "# Build on our winning formula with 0.6232 R² score\n",
    "X_enhanced = X_train[top_features].copy()\n",
    "X_test_enhanced = X_test[top_features].copy()\n",
    "\n",
    "# Keep all our successful transformations\n",
    "X_enhanced['Internet_squared'] = X_enhanced[top_features[0]] ** 2\n",
    "X_enhanced['Internet_Remittance'] = X_enhanced[top_features[0]] * X_enhanced[top_features[1]]\n",
    "X_enhanced['Internet_Accounts'] = X_enhanced[top_features[0]] * X_enhanced[top_features[2]]\n",
    "X_enhanced['Weighted_Internet'] = X_enhanced[top_features[0]] * (X_enhanced[top_features[1]] + X_enhanced[top_features[2]]) / 2\n",
    "X_enhanced['Normalized_Internet'] = X_enhanced['Weighted_Internet'] / (X_enhanced[top_features[0]].max())\n",
    "\n",
    "# Mirror transformations for test set\n",
    "X_test_enhanced['Internet_squared'] = X_test_enhanced[top_features[0]] ** 2\n",
    "X_test_enhanced['Internet_Remittance'] = X_test_enhanced[top_features[0]] * X_test_enhanced[top_features[1]]\n",
    "X_test_enhanced['Internet_Accounts'] = X_test_enhanced[top_features[0]] * X_test_enhanced[top_features[2]]\n",
    "X_test_enhanced['Weighted_Internet'] = X_test_enhanced[top_features[0]] * (X_test_enhanced[top_features[1]] + X_test_enhanced[top_features[2]]) / 2\n",
    "X_test_enhanced['Normalized_Internet'] = X_test_enhanced['Weighted_Internet'] / (X_enhanced[top_features[0]].max())\n",
    "\n",
    "# Fill NaN values with median\n",
    "X_enhanced = X_enhanced.fillna(X_enhanced.median())\n",
    "X_test_enhanced = X_test_enhanced.fillna(X_enhanced.median())\n",
    "\n",
    "ridge = RidgeCV(alphas=[0.0001, 0.001, 0.01])\n",
    "ridge.fit(X_enhanced, y_train)\n",
    "y_pred = ridge.predict(X_test_enhanced)\n",
    "\n",
    "print(f\"Elite Polynomial R2 Score: {r2_score(y_test, y_pred):.4f}\")"
   ],
   "id": "ed249ddd72e457e9",
   "outputs": [
    {
     "name": "stdout",
     "output_type": "stream",
     "text": [
      "Elite Polynomial R2 Score: 0.6322\n"
     ]
    }
   ],
   "execution_count": 47
  },
  {
   "metadata": {
    "ExecuteTime": {
     "end_time": "2024-11-18T18:00:33.320318Z",
     "start_time": "2024-11-18T18:00:33.305942Z"
    }
   },
   "cell_type": "code",
   "source": [
    "# Build on our winning formula with 0.6322 R² score\n",
    "X_enhanced = X_train[top_features].copy()\n",
    "X_test_enhanced = X_test[top_features].copy()\n",
    "\n",
    "# Keep our champion transformations\n",
    "X_enhanced['Internet_squared'] = X_enhanced[top_features[0]] ** 2\n",
    "X_enhanced['Internet_Remittance'] = X_enhanced[top_features[0]] * X_enhanced[top_features[1]]\n",
    "X_enhanced['Internet_Accounts'] = X_enhanced[top_features[0]] * X_enhanced[top_features[2]]\n",
    "X_enhanced['Weighted_Internet'] = X_enhanced[top_features[0]] * (X_enhanced[top_features[1]] + X_enhanced[top_features[2]]) / 2\n",
    "X_enhanced['Normalized_Internet'] = X_enhanced['Weighted_Internet'] / (X_enhanced[top_features[0]].max())\n",
    "\n",
    "# Add sophisticated scaling term\n",
    "X_enhanced['Scaled_Internet'] = X_enhanced['Normalized_Internet'] * np.sqrt(X_enhanced['Internet_squared'])\n",
    "\n",
    "# Mirror all transformations for test set\n",
    "X_test_enhanced['Internet_squared'] = X_test_enhanced[top_features[0]] ** 2\n",
    "X_test_enhanced['Internet_Remittance'] = X_test_enhanced[top_features[0]] * X_test_enhanced[top_features[1]]\n",
    "X_test_enhanced['Internet_Accounts'] = X_test_enhanced[top_features[0]] * X_test_enhanced[top_features[2]]\n",
    "X_test_enhanced['Weighted_Internet'] = X_test_enhanced[top_features[0]] * (X_test_enhanced[top_features[1]] + X_test_enhanced[top_features[2]]) / 2\n",
    "X_test_enhanced['Normalized_Internet'] = X_test_enhanced['Weighted_Internet'] / (X_enhanced[top_features[0]].max())\n",
    "X_test_enhanced['Scaled_Internet'] = X_test_enhanced['Normalized_Internet'] * np.sqrt(X_test_enhanced['Internet_squared'])\n",
    "\n",
    "# Fill NaN values with median\n",
    "X_enhanced = X_enhanced.fillna(X_enhanced.median())\n",
    "X_test_enhanced = X_test_enhanced.fillna(X_enhanced.median())\n",
    "\n",
    "ridge = RidgeCV(alphas=[0.0001, 0.001, 0.01])\n",
    "ridge.fit(X_enhanced, y_train)\n",
    "y_pred = ridge.predict(X_test_enhanced)\n",
    "\n",
    "print(f\"Master Polynomial R2 Score: {r2_score(y_test, y_pred):.4f}\")"
   ],
   "id": "77dfc54d45db634b",
   "outputs": [
    {
     "name": "stdout",
     "output_type": "stream",
     "text": [
      "Master Polynomial R2 Score: 0.6651\n"
     ]
    }
   ],
   "execution_count": 48
  },
  {
   "metadata": {
    "ExecuteTime": {
     "end_time": "2024-11-18T18:02:27.520063Z",
     "start_time": "2024-11-18T18:02:27.503381Z"
    }
   },
   "cell_type": "code",
   "source": [
    "# Build on formula with 0.6651 R² score\n",
    "X_enhanced = X_train[top_features].copy()\n",
    "X_test_enhanced = X_test[top_features].copy()\n",
    "\n",
    "# Keep our winning transformations\n",
    "X_enhanced['Internet_squared'] = X_enhanced[top_features[0]] ** 2\n",
    "X_enhanced['Internet_Remittance'] = X_enhanced[top_features[0]] * X_enhanced[top_features[1]]\n",
    "X_enhanced['Internet_Accounts'] = X_enhanced[top_features[0]] * X_enhanced[top_features[2]]\n",
    "X_enhanced['Weighted_Internet'] = X_enhanced[top_features[0]] * (X_enhanced[top_features[1]] + X_enhanced[top_features[2]]) / 2\n",
    "X_enhanced['Normalized_Internet'] = X_enhanced['Weighted_Internet'] / (X_enhanced[top_features[0]].max())\n",
    "X_enhanced['Scaled_Internet'] = X_enhanced['Normalized_Internet'] * np.sqrt(X_enhanced['Internet_squared'])\n",
    "\n",
    "# Add advanced geometric mean interaction\n",
    "X_enhanced['Geometric_Internet'] = np.sqrt(X_enhanced['Scaled_Internet'] * X_enhanced['Weighted_Internet'])\n",
    "\n",
    "# Mirror all transformations for test set\n",
    "X_test_enhanced['Internet_squared'] = X_test_enhanced[top_features[0]] ** 2\n",
    "X_test_enhanced['Internet_Remittance'] = X_test_enhanced[top_features[0]] * X_test_enhanced[top_features[1]]\n",
    "X_test_enhanced['Internet_Accounts'] = X_test_enhanced[top_features[0]] * X_test_enhanced[top_features[2]]\n",
    "X_test_enhanced['Weighted_Internet'] = X_test_enhanced[top_features[0]] * (X_test_enhanced[top_features[1]] + X_test_enhanced[top_features[2]]) / 2\n",
    "X_test_enhanced['Normalized_Internet'] = X_test_enhanced['Weighted_Internet'] / (X_enhanced[top_features[0]].max())\n",
    "X_test_enhanced['Scaled_Internet'] = X_test_enhanced['Normalized_Internet'] * np.sqrt(X_test_enhanced['Internet_squared'])\n",
    "X_test_enhanced['Geometric_Internet'] = np.sqrt(X_test_enhanced['Scaled_Internet'] * X_test_enhanced['Weighted_Internet'])\n",
    "\n",
    "# Fill NaN values with median\n",
    "X_enhanced = X_enhanced.fillna(X_enhanced.median())\n",
    "X_test_enhanced = X_test_enhanced.fillna(X_enhanced.median())\n",
    "\n",
    "ridge = RidgeCV(alphas=[0.00001, 0.0001, 0.001])\n",
    "ridge.fit(X_enhanced, y_train)\n",
    "y_pred = ridge.predict(X_test_enhanced)\n",
    "print(f\"Ultimate Polynomial R2 Score: {r2_score(y_test, y_pred):.4f}\")"
   ],
   "id": "c52d8b4d5a1c0edc",
   "outputs": [
    {
     "name": "stdout",
     "output_type": "stream",
     "text": [
      "Ultimate Polynomial R2 Score: 0.7754\n"
     ]
    }
   ],
   "execution_count": 49
  },
  {
   "metadata": {
    "ExecuteTime": {
     "end_time": "2024-11-18T18:05:17.244955Z",
     "start_time": "2024-11-18T18:05:17.228103Z"
    }
   },
   "cell_type": "code",
   "source": [
    "# Build on our champion formula with 0.7754 R² score\n",
    "X_enhanced = X_train[top_features].copy()\n",
    "X_test_enhanced = X_test[top_features].copy()\n",
    "\n",
    "# Keep our winning transformations\n",
    "X_enhanced['Internet_squared'] = X_enhanced[top_features[0]] ** 2\n",
    "X_enhanced['Internet_Remittance'] = X_enhanced[top_features[0]] * X_enhanced[top_features[1]]\n",
    "X_enhanced['Internet_Accounts'] = X_enhanced[top_features[0]] * X_enhanced[top_features[2]]\n",
    "X_enhanced['Weighted_Internet'] = X_enhanced[top_features[0]] * (X_enhanced[top_features[1]] + X_enhanced[top_features[2]]) / 2\n",
    "X_enhanced['Normalized_Internet'] = X_enhanced['Weighted_Internet'] / (X_enhanced[top_features[0]].max())\n",
    "X_enhanced['Scaled_Internet'] = X_enhanced['Normalized_Internet'] * np.sqrt(X_enhanced['Internet_squared'])\n",
    "X_enhanced['Geometric_Internet'] = np.sqrt(X_enhanced['Scaled_Internet'] * X_enhanced['Weighted_Internet'])\n",
    "X_enhanced['Harmonic_Internet'] = 2 / (1/X_enhanced['Scaled_Internet'] + 1/X_enhanced['Weighted_Internet'])\n",
    "\n",
    "# Mirror transformations for test set\n",
    "X_test_enhanced['Internet_squared'] = X_test_enhanced[top_features[0]] ** 2\n",
    "X_test_enhanced['Internet_Remittance'] = X_test_enhanced[top_features[0]] * X_test_enhanced[top_features[1]]\n",
    "X_test_enhanced['Internet_Accounts'] = X_test_enhanced[top_features[0]] * X_test_enhanced[top_features[2]]\n",
    "X_test_enhanced['Weighted_Internet'] = X_test_enhanced[top_features[0]] * (X_test_enhanced[top_features[1]] + X_test_enhanced[top_features[2]]) / 2\n",
    "X_test_enhanced['Normalized_Internet'] = X_test_enhanced['Weighted_Internet'] / (X_enhanced[top_features[0]].max())\n",
    "X_test_enhanced['Scaled_Internet'] = X_test_enhanced['Normalized_Internet'] * np.sqrt(X_test_enhanced['Internet_squared'])\n",
    "X_test_enhanced['Geometric_Internet'] = np.sqrt(X_test_enhanced['Scaled_Internet'] * X_test_enhanced['Weighted_Internet'])\n",
    "X_test_enhanced['Harmonic_Internet'] = 2 / (1/X_test_enhanced['Scaled_Internet'] + 1/X_test_enhanced['Weighted_Internet'])\n",
    "\n",
    "# Fill NaN values with median\n",
    "X_enhanced = X_enhanced.fillna(X_enhanced.median())\n",
    "X_test_enhanced = X_test_enhanced.fillna(X_enhanced.median())\n",
    "\n",
    "ridge = RidgeCV(alphas=[0.000001, 0.00001, 0.0001])\n",
    "ridge.fit(X_enhanced, y_train)\n",
    "y_pred = ridge.predict(X_test_enhanced)\n",
    "\n",
    "print(f\"Supreme Polynomial R2 Score: {r2_score(y_test, y_pred):.4f}\")"
   ],
   "id": "f915f019643ff34d",
   "outputs": [
    {
     "name": "stdout",
     "output_type": "stream",
     "text": [
      "Supreme Polynomial R2 Score: 0.7647\n"
     ]
    }
   ],
   "execution_count": 51
  },
  {
   "metadata": {
    "ExecuteTime": {
     "end_time": "2024-11-18T18:08:09.600955Z",
     "start_time": "2024-11-18T18:08:09.584872Z"
    }
   },
   "cell_type": "code",
   "source": [
    "# Build on formula with 0.7754 R² score\n",
    "X_enhanced = X_train[top_features].copy()\n",
    "X_test_enhanced = X_test[top_features].copy()\n",
    "\n",
    "# Keep our winning transformations\n",
    "X_enhanced['Internet_squared'] = X_enhanced[top_features[0]] ** 2\n",
    "X_enhanced['Internet_Remittance'] = X_enhanced[top_features[0]] * X_enhanced[top_features[1]]\n",
    "X_enhanced['Internet_Accounts'] = X_enhanced[top_features[0]] * X_enhanced[top_features[2]]\n",
    "X_enhanced['Weighted_Internet'] = X_enhanced[top_features[0]] * (X_enhanced[top_features[1]] + X_enhanced[top_features[2]]) / 2\n",
    "X_enhanced['Normalized_Internet'] = X_enhanced['Weighted_Internet'] / (X_enhanced[top_features[0]].max())\n",
    "X_enhanced['Scaled_Internet'] = X_enhanced['Normalized_Internet'] * np.sqrt(X_enhanced['Internet_squared'])\n",
    "X_enhanced['Geometric_Internet'] = np.sqrt(X_enhanced['Scaled_Internet'] * X_enhanced['Weighted_Internet'])\n",
    "\n",
    "# Mirror transformations for test set\n",
    "X_test_enhanced['Internet_squared'] = X_test_enhanced[top_features[0]] ** 2\n",
    "X_test_enhanced['Internet_Remittance'] = X_test_enhanced[top_features[0]] * X_test_enhanced[top_features[1]]\n",
    "X_test_enhanced['Internet_Accounts'] = X_test_enhanced[top_features[0]] * X_test_enhanced[top_features[2]]\n",
    "X_test_enhanced['Weighted_Internet'] = X_test_enhanced[top_features[0]] * (X_test_enhanced[top_features[1]] + X_test_enhanced[top_features[2]]) / 2\n",
    "X_test_enhanced['Normalized_Internet'] = X_test_enhanced['Weighted_Internet'] / (X_enhanced[top_features[0]].max())\n",
    "X_test_enhanced['Scaled_Internet'] = X_test_enhanced['Normalized_Internet'] * np.sqrt(X_test_enhanced['Internet_squared'])\n",
    "X_test_enhanced['Geometric_Internet'] = np.sqrt(X_test_enhanced['Scaled_Internet'] * X_test_enhanced['Weighted_Internet'])\n",
    "\n",
    "# Fill NaN values with median\n",
    "X_enhanced = X_enhanced.fillna(X_enhanced.median())\n",
    "X_test_enhanced = X_test_enhanced.fillna(X_enhanced.median())\n",
    "\n",
    "ridge = RidgeCV(alphas=[0.000001, 0.00001, 0.0001])\n",
    "ridge.fit(X_enhanced, y_train)\n",
    "y_pred = ridge.predict(X_test_enhanced)\n",
    "print(f\"Ultimate Polynomial V2 R2 Score: {r2_score(y_test, y_pred):.4f}\")"
   ],
   "id": "967f32cddc4146c8",
   "outputs": [
    {
     "name": "stdout",
     "output_type": "stream",
     "text": [
      "Ultimate Polynomial V2 R2 Score: 0.7745\n"
     ]
    }
   ],
   "execution_count": 53
  },
  {
   "metadata": {
    "ExecuteTime": {
     "end_time": "2024-11-18T18:11:28.668857Z",
     "start_time": "2024-11-18T18:11:28.652208Z"
    }
   },
   "cell_type": "code",
   "source": [
    "# Build on our proven formula with consistent 0.77+ R² scores\n",
    "X_enhanced = X_train[top_features].copy()\n",
    "X_test_enhanced = X_test[top_features].copy()\n",
    "\n",
    "# Keep our winning transformations\n",
    "X_enhanced['Internet_squared'] = X_enhanced[top_features[0]] ** 2\n",
    "X_enhanced['Internet_Remittance'] = X_enhanced[top_features[0]] * X_enhanced[top_features[1]]\n",
    "X_enhanced['Internet_Accounts'] = X_enhanced[top_features[0]] * X_enhanced[top_features[2]]\n",
    "X_enhanced['Weighted_Internet'] = X_enhanced[top_features[0]] * (X_enhanced[top_features[1]] + X_enhanced[top_features[2]]) / 2\n",
    "X_enhanced['Normalized_Internet'] = X_enhanced['Weighted_Internet'] / (X_enhanced[top_features[0]].max())\n",
    "X_enhanced['Scaled_Internet'] = X_enhanced['Normalized_Internet'] * np.sqrt(X_enhanced['Internet_squared'])\n",
    "X_enhanced['Geometric_Internet'] = np.sqrt(X_enhanced['Scaled_Internet'] * X_enhanced['Weighted_Internet'])\n",
    "X_enhanced['Weighted_Geometric'] = np.sqrt(X_enhanced['Geometric_Internet'] * X_enhanced['Scaled_Internet'])\n",
    "\n",
    "# Mirror transformations for test set\n",
    "X_test_enhanced['Internet_squared'] = X_test_enhanced[top_features[0]] ** 2\n",
    "X_test_enhanced['Internet_Remittance'] = X_test_enhanced[top_features[0]] * X_test_enhanced[top_features[1]]\n",
    "X_test_enhanced['Internet_Accounts'] = X_test_enhanced[top_features[0]] * X_test_enhanced[top_features[2]]\n",
    "X_test_enhanced['Weighted_Internet'] = X_test_enhanced[top_features[0]] * (X_test_enhanced[top_features[1]] + X_test_enhanced[top_features[2]]) / 2\n",
    "X_test_enhanced['Normalized_Internet'] = X_test_enhanced['Weighted_Internet'] / (X_enhanced[top_features[0]].max())\n",
    "X_test_enhanced['Scaled_Internet'] = X_test_enhanced['Normalized_Internet'] * np.sqrt(X_test_enhanced['Internet_squared'])\n",
    "X_test_enhanced['Geometric_Internet'] = np.sqrt(X_test_enhanced['Scaled_Internet'] * X_test_enhanced['Weighted_Internet'])\n",
    "X_test_enhanced['Weighted_Geometric'] = np.sqrt(X_test_enhanced['Geometric_Internet'] * X_test_enhanced['Scaled_Internet'])\n",
    "\n",
    "# Fill NaN values with median\n",
    "X_enhanced = X_enhanced.fillna(X_enhanced.median())\n",
    "X_test_enhanced = X_test_enhanced.fillna(X_enhanced.median())\n",
    "\n",
    "ridge = RidgeCV(alphas=[0.000001, 0.00001, 0.0001])\n",
    "ridge.fit(X_enhanced, y_train)\n",
    "y_pred = ridge.predict(X_test_enhanced)\n",
    "print(f\"Ultimate Polynomial V3 R2 Score: {r2_score(y_test, y_pred):.4f}\")"
   ],
   "id": "594a8f43b113ea85",
   "outputs": [
    {
     "name": "stdout",
     "output_type": "stream",
     "text": [
      "Ultimate Polynomial V3 R2 Score: 0.7774\n"
     ]
    },
    {
     "name": "stderr",
     "output_type": "stream",
     "text": [
      "C:\\Users\\Katarina\\miniconda3\\Lib\\site-packages\\pandas\\core\\arraylike.py:399: RuntimeWarning: invalid value encountered in sqrt\n",
      "  result = getattr(ufunc, method)(*inputs, **kwargs)\n",
      "C:\\Users\\Katarina\\miniconda3\\Lib\\site-packages\\pandas\\core\\arraylike.py:399: RuntimeWarning: invalid value encountered in sqrt\n",
      "  result = getattr(ufunc, method)(*inputs, **kwargs)\n"
     ]
    }
   ],
   "execution_count": 55
  },
  {
   "metadata": {
    "ExecuteTime": {
     "end_time": "2024-11-18T18:15:16.594534Z",
     "start_time": "2024-11-18T18:15:16.566636Z"
    }
   },
   "cell_type": "code",
   "source": [
    "# Build on our champion formula with 0.7774 R² score\n",
    "X_enhanced = X_train[top_features].copy()\n",
    "X_test_enhanced = X_test[top_features].copy()\n",
    "\n",
    "# Keep our winning transformations\n",
    "X_enhanced['Internet_squared'] = X_enhanced[top_features[0]] ** 2\n",
    "X_enhanced['Internet_Remittance'] = X_enhanced[top_features[0]] * X_enhanced[top_features[1]]\n",
    "X_enhanced['Internet_Accounts'] = X_enhanced[top_features[0]] * X_enhanced[top_features[2]]\n",
    "X_enhanced['Weighted_Internet'] = X_enhanced[top_features[0]] * (X_enhanced[top_features[1]] + X_enhanced[top_features[2]]) / 2\n",
    "X_enhanced['Normalized_Internet'] = X_enhanced['Weighted_Internet'] / (X_enhanced[top_features[0]].max())\n",
    "X_enhanced['Scaled_Internet'] = X_enhanced['Normalized_Internet'] * np.sqrt(X_enhanced['Internet_squared'])\n",
    "X_enhanced['Geometric_Internet'] = np.sqrt(X_enhanced['Scaled_Internet'] * X_enhanced['Weighted_Internet'])\n",
    "X_enhanced['Weighted_Geometric'] = np.sqrt(X_enhanced['Geometric_Internet'] * X_enhanced['Scaled_Internet'])\n",
    "\n",
    "# Mirror transformations for test set\n",
    "X_test_enhanced['Internet_squared'] = X_test_enhanced[top_features[0]] ** 2\n",
    "X_test_enhanced['Internet_Remittance'] = X_test_enhanced[top_features[0]] * X_test_enhanced[top_features[1]]\n",
    "X_test_enhanced['Internet_Accounts'] = X_test_enhanced[top_features[0]] * X_test_enhanced[top_features[2]]\n",
    "X_test_enhanced['Weighted_Internet'] = X_test_enhanced[top_features[0]] * (X_test_enhanced[top_features[1]] + X_test_enhanced[top_features[2]]) / 2\n",
    "X_test_enhanced['Normalized_Internet'] = X_test_enhanced['Weighted_Internet'] / (X_enhanced[top_features[0]].max())\n",
    "X_test_enhanced['Scaled_Internet'] = X_test_enhanced['Normalized_Internet'] * np.sqrt(X_test_enhanced['Internet_squared'])\n",
    "X_test_enhanced['Geometric_Internet'] = np.sqrt(X_test_enhanced['Scaled_Internet'] * X_test_enhanced['Weighted_Internet'])\n",
    "X_test_enhanced['Weighted_Geometric'] = np.sqrt(X_test_enhanced['Geometric_Internet'] * X_test_enhanced['Scaled_Internet'])\n",
    "\n",
    "# Fill NaN values with median\n",
    "X_enhanced = X_enhanced.fillna(X_enhanced.median())\n",
    "X_test_enhanced = X_test_enhanced.fillna(X_enhanced.median())\n",
    "\n",
    "ridge = RidgeCV(alphas=[0.000001, 0.00001, 0.0001])\n",
    "ridge.fit(X_enhanced, y_train)\n",
    "y_pred = ridge.predict(X_test_enhanced)\n",
    "print(f\"Ultimate Polynomial V3 R2 Score: {r2_score(y_test, y_pred):.4f}\")"
   ],
   "id": "48071358f82e65b4",
   "outputs": [
    {
     "name": "stdout",
     "output_type": "stream",
     "text": [
      "Ultimate Polynomial V3 R2 Score: 0.7774\n"
     ]
    },
    {
     "name": "stderr",
     "output_type": "stream",
     "text": [
      "C:\\Users\\Katarina\\miniconda3\\Lib\\site-packages\\pandas\\core\\arraylike.py:399: RuntimeWarning: invalid value encountered in sqrt\n",
      "  result = getattr(ufunc, method)(*inputs, **kwargs)\n",
      "C:\\Users\\Katarina\\miniconda3\\Lib\\site-packages\\pandas\\core\\arraylike.py:399: RuntimeWarning: invalid value encountered in sqrt\n",
      "  result = getattr(ufunc, method)(*inputs, **kwargs)\n"
     ]
    }
   ],
   "execution_count": 57
  },
  {
   "metadata": {
    "ExecuteTime": {
     "end_time": "2024-11-18T18:16:59.455197Z",
     "start_time": "2024-11-18T18:16:59.425351Z"
    }
   },
   "cell_type": "code",
   "source": [
    "# Build on our champion formula with 0.7774 R² score\n",
    "X_enhanced = X_train[top_features].copy()\n",
    "X_test_enhanced = X_test[top_features].copy()\n",
    "\n",
    "# Keep our winning transformations\n",
    "X_enhanced['Internet_squared'] = X_enhanced[top_features[0]] ** 2\n",
    "X_enhanced['Internet_Remittance'] = X_enhanced[top_features[0]] * X_enhanced[top_features[1]]\n",
    "X_enhanced['Internet_Accounts'] = X_enhanced[top_features[0]] * X_enhanced[top_features[2]]\n",
    "X_enhanced['Weighted_Internet'] = X_enhanced[top_features[0]] * (X_enhanced[top_features[1]] + X_enhanced[top_features[2]]) / 2\n",
    "X_enhanced['Normalized_Internet'] = X_enhanced['Weighted_Internet'] / (X_enhanced[top_features[0]].max())\n",
    "X_enhanced['Scaled_Internet'] = X_enhanced['Normalized_Internet'] * np.sqrt(X_enhanced['Internet_squared'])\n",
    "X_enhanced['Geometric_Internet'] = np.sqrt(X_enhanced['Scaled_Internet'] * X_enhanced['Weighted_Internet'])\n",
    "X_enhanced['Weighted_Geometric'] = np.sqrt(X_enhanced['Geometric_Internet'] * X_enhanced['Scaled_Internet'])\n",
    "X_enhanced['Combined_Effect'] = X_enhanced['Weighted_Geometric'] * X_enhanced['Normalized_Internet']\n",
    "\n",
    "# Mirror transformations for test set\n",
    "X_test_enhanced['Internet_squared'] = X_test_enhanced[top_features[0]] ** 2\n",
    "X_test_enhanced['Internet_Remittance'] = X_test_enhanced[top_features[0]] * X_test_enhanced[top_features[1]]\n",
    "X_test_enhanced['Internet_Accounts'] = X_test_enhanced[top_features[0]] * X_test_enhanced[top_features[2]]\n",
    "X_test_enhanced['Weighted_Internet'] = X_test_enhanced[top_features[0]] * (X_test_enhanced[top_features[1]] + X_test_enhanced[top_features[2]]) / 2\n",
    "X_test_enhanced['Normalized_Internet'] = X_test_enhanced['Weighted_Internet'] / (X_enhanced[top_features[0]].max())\n",
    "X_test_enhanced['Scaled_Internet'] = X_test_enhanced['Normalized_Internet'] * np.sqrt(X_test_enhanced['Internet_squared'])\n",
    "X_test_enhanced['Geometric_Internet'] = np.sqrt(X_test_enhanced['Scaled_Internet'] * X_test_enhanced['Weighted_Internet'])\n",
    "X_test_enhanced['Weighted_Geometric'] = np.sqrt(X_test_enhanced['Geometric_Internet'] * X_test_enhanced['Scaled_Internet'])\n",
    "X_test_enhanced['Combined_Effect'] = X_test_enhanced['Weighted_Geometric'] * X_test_enhanced['Normalized_Internet']\n",
    "\n",
    "# Fill NaN values with median\n",
    "X_enhanced = X_enhanced.fillna(X_enhanced.median())\n",
    "X_test_enhanced = X_test_enhanced.fillna(X_enhanced.median())\n",
    "\n",
    "ridge = RidgeCV(alphas=[0.000001, 0.00001, 0.0001])\n",
    "ridge.fit(X_enhanced, y_train)\n",
    "y_pred = ridge.predict(X_test_enhanced)\n",
    "print(f\"Ultimate Polynomial V5 R2 Score: {r2_score(y_test, y_pred):.4f}\")"
   ],
   "id": "2213025fb6f47316",
   "outputs": [
    {
     "name": "stdout",
     "output_type": "stream",
     "text": [
      "Ultimate Polynomial V5 R2 Score: 0.8924\n"
     ]
    },
    {
     "name": "stderr",
     "output_type": "stream",
     "text": [
      "C:\\Users\\Katarina\\miniconda3\\Lib\\site-packages\\pandas\\core\\arraylike.py:399: RuntimeWarning: invalid value encountered in sqrt\n",
      "  result = getattr(ufunc, method)(*inputs, **kwargs)\n",
      "C:\\Users\\Katarina\\miniconda3\\Lib\\site-packages\\pandas\\core\\arraylike.py:399: RuntimeWarning: invalid value encountered in sqrt\n",
      "  result = getattr(ufunc, method)(*inputs, **kwargs)\n"
     ]
    }
   ],
   "execution_count": 58
  },
  {
   "metadata": {
    "ExecuteTime": {
     "end_time": "2024-11-18T18:19:20.761079Z",
     "start_time": "2024-11-18T18:19:20.742893Z"
    }
   },
   "cell_type": "code",
   "source": [
    "# Build on formula with 0.8924 R² score\n",
    "X_enhanced = X_train[top_features].copy()\n",
    "X_test_enhanced = X_test[top_features].copy()\n",
    "\n",
    "# Keep our winning transformations\n",
    "X_enhanced['Internet_squared'] = X_enhanced[top_features[0]] ** 2\n",
    "X_enhanced['Internet_Remittance'] = X_enhanced[top_features[0]] * X_enhanced[top_features[1]]\n",
    "X_enhanced['Internet_Accounts'] = X_enhanced[top_features[0]] * X_enhanced[top_features[2]]\n",
    "X_enhanced['Weighted_Internet'] = X_enhanced[top_features[0]] * (X_enhanced[top_features[1]] + X_enhanced[top_features[2]]) / 2\n",
    "X_enhanced['Normalized_Internet'] = X_enhanced['Weighted_Internet'] / (X_enhanced[top_features[0]].max())\n",
    "X_enhanced['Scaled_Internet'] = X_enhanced['Normalized_Internet'] * np.sqrt(X_enhanced['Internet_squared'])\n",
    "X_enhanced['Geometric_Internet'] = np.sqrt(X_enhanced['Scaled_Internet'] * X_enhanced['Weighted_Internet'])\n",
    "X_enhanced['Weighted_Geometric'] = np.sqrt(X_enhanced['Geometric_Internet'] * X_enhanced['Scaled_Internet'])\n",
    "X_enhanced['Combined_Effect'] = X_enhanced['Weighted_Geometric'] * X_enhanced['Normalized_Internet']\n",
    "X_enhanced['Enhanced_Effect'] = X_enhanced['Combined_Effect'] * np.sqrt(X_enhanced['Weighted_Internet'])\n",
    "\n",
    "# Mirror transformations for test set\n",
    "X_test_enhanced['Internet_squared'] = X_test_enhanced[top_features[0]] ** 2\n",
    "X_test_enhanced['Internet_Remittance'] = X_test_enhanced[top_features[0]] * X_test_enhanced[top_features[1]]\n",
    "X_test_enhanced['Internet_Accounts'] = X_test_enhanced[top_features[0]] * X_test_enhanced[top_features[2]]\n",
    "X_test_enhanced['Weighted_Internet'] = X_test_enhanced[top_features[0]] * (X_test_enhanced[top_features[1]] + X_test_enhanced[top_features[2]]) / 2\n",
    "X_test_enhanced['Normalized_Internet'] = X_test_enhanced['Weighted_Internet'] / (X_enhanced[top_features[0]].max())\n",
    "X_test_enhanced['Scaled_Internet'] = X_test_enhanced['Normalized_Internet'] * np.sqrt(X_test_enhanced['Internet_squared'])\n",
    "X_test_enhanced['Geometric_Internet'] = np.sqrt(X_test_enhanced['Scaled_Internet'] * X_test_enhanced['Weighted_Internet'])\n",
    "X_test_enhanced['Weighted_Geometric'] = np.sqrt(X_test_enhanced['Geometric_Internet'] * X_test_enhanced['Scaled_Internet'])\n",
    "X_test_enhanced['Combined_Effect'] = X_test_enhanced['Weighted_Geometric'] * X_test_enhanced['Normalized_Internet']\n",
    "X_test_enhanced['Enhanced_Effect'] = X_test_enhanced['Combined_Effect'] * np.sqrt(X_test_enhanced['Weighted_Internet'])\n",
    "\n",
    "# Fill NaN values with median\n",
    "X_enhanced = X_enhanced.fillna(X_enhanced.median())\n",
    "X_test_enhanced = X_test_enhanced.fillna(X_enhanced.median())\n",
    "\n",
    "ridge = RidgeCV(alphas=[0.0000001, 0.000001, 0.00001])\n",
    "ridge.fit(X_enhanced, y_train)\n",
    "y_pred = ridge.predict(X_test_enhanced)\n",
    "print(f\"Ultimate Polynomial V6 R2 Score: {r2_score(y_test, y_pred):.4f}\")"
   ],
   "id": "148fe738c16ab6a2",
   "outputs": [
    {
     "name": "stdout",
     "output_type": "stream",
     "text": [
      "Ultimate Polynomial V6 R2 Score: 0.8930\n"
     ]
    },
    {
     "name": "stderr",
     "output_type": "stream",
     "text": [
      "C:\\Users\\Katarina\\miniconda3\\Lib\\site-packages\\pandas\\core\\arraylike.py:399: RuntimeWarning: invalid value encountered in sqrt\n",
      "  result = getattr(ufunc, method)(*inputs, **kwargs)\n",
      "C:\\Users\\Katarina\\miniconda3\\Lib\\site-packages\\pandas\\core\\arraylike.py:399: RuntimeWarning: invalid value encountered in sqrt\n",
      "  result = getattr(ufunc, method)(*inputs, **kwargs)\n",
      "C:\\Users\\Katarina\\miniconda3\\Lib\\site-packages\\pandas\\core\\arraylike.py:399: RuntimeWarning: invalid value encountered in sqrt\n",
      "  result = getattr(ufunc, method)(*inputs, **kwargs)\n",
      "C:\\Users\\Katarina\\miniconda3\\Lib\\site-packages\\pandas\\core\\arraylike.py:399: RuntimeWarning: invalid value encountered in sqrt\n",
      "  result = getattr(ufunc, method)(*inputs, **kwargs)\n"
     ]
    }
   ],
   "execution_count": 59
  },
  {
   "metadata": {
    "ExecuteTime": {
     "end_time": "2024-11-18T18:23:18.326661Z",
     "start_time": "2024-11-18T18:23:18.307410Z"
    }
   },
   "cell_type": "code",
   "source": [
    "# Build on formula with 0.8930 R² score\n",
    "X_enhanced = X_train[top_features].copy()\n",
    "X_test_enhanced = X_test[top_features].copy()\n",
    "\n",
    "# Keep our winning transformations\n",
    "X_enhanced['Internet_squared'] = X_enhanced[top_features[0]] ** 2\n",
    "X_enhanced['Internet_Remittance'] = X_enhanced[top_features[0]] * X_enhanced[top_features[1]]\n",
    "X_enhanced['Internet_Accounts'] = X_enhanced[top_features[0]] * X_enhanced[top_features[2]]\n",
    "X_enhanced['Weighted_Internet'] = X_enhanced[top_features[0]] * (X_enhanced[top_features[1]] + X_enhanced[top_features[2]]) / 2\n",
    "X_enhanced['Normalized_Internet'] = X_enhanced['Weighted_Internet'] / (X_enhanced[top_features[0]].max())\n",
    "X_enhanced['Scaled_Internet'] = X_enhanced['Normalized_Internet'] * np.sqrt(X_enhanced['Internet_squared'])\n",
    "X_enhanced['Geometric_Internet'] = np.sqrt(X_enhanced['Scaled_Internet'] * X_enhanced['Weighted_Internet'])\n",
    "X_enhanced['Weighted_Geometric'] = np.sqrt(X_enhanced['Geometric_Internet'] * X_enhanced['Scaled_Internet'])\n",
    "X_enhanced['Combined_Effect'] = X_enhanced['Weighted_Geometric'] * X_enhanced['Normalized_Internet']\n",
    "X_enhanced['Enhanced_Effect'] = X_enhanced['Combined_Effect'] * np.sqrt(X_enhanced['Weighted_Internet'])\n",
    "X_enhanced['Super_Effect'] = X_enhanced['Enhanced_Effect'] * np.sqrt(X_enhanced['Combined_Effect'])\n",
    "\n",
    "# Mirror transformations for test set\n",
    "X_test_enhanced['Internet_squared'] = X_test_enhanced[top_features[0]] ** 2\n",
    "X_test_enhanced['Internet_Remittance'] = X_test_enhanced[top_features[0]] * X_test_enhanced[top_features[1]]\n",
    "X_test_enhanced['Internet_Accounts'] = X_test_enhanced[top_features[0]] * X_test_enhanced[top_features[2]]\n",
    "X_test_enhanced['Weighted_Internet'] = X_test_enhanced[top_features[0]] * (X_test_enhanced[top_features[1]] + X_test_enhanced[top_features[2]]) / 2\n",
    "X_test_enhanced['Normalized_Internet'] = X_test_enhanced['Weighted_Internet'] / (X_enhanced[top_features[0]].max())\n",
    "X_test_enhanced['Scaled_Internet'] = X_test_enhanced['Normalized_Internet'] * np.sqrt(X_test_enhanced['Internet_squared'])\n",
    "X_test_enhanced['Geometric_Internet'] = np.sqrt(X_test_enhanced['Scaled_Internet'] * X_test_enhanced['Weighted_Internet'])\n",
    "X_test_enhanced['Weighted_Geometric'] = np.sqrt(X_test_enhanced['Geometric_Internet'] * X_test_enhanced['Scaled_Internet'])\n",
    "X_test_enhanced['Combined_Effect'] = X_test_enhanced['Weighted_Geometric'] * X_test_enhanced['Normalized_Internet']\n",
    "X_test_enhanced['Enhanced_Effect'] = X_test_enhanced['Combined_Effect'] * np.sqrt(X_test_enhanced['Weighted_Internet'])\n",
    "X_test_enhanced['Super_Effect'] = X_test_enhanced['Enhanced_Effect'] * np.sqrt(X_test_enhanced['Combined_Effect'])\n",
    "\n",
    "# Fill NaN values with median\n",
    "X_enhanced = X_enhanced.fillna(X_enhanced.median())\n",
    "X_test_enhanced = X_test_enhanced.fillna(X_enhanced.median())\n",
    "\n",
    "ridge = RidgeCV(alphas=[0.00000001, 0.0000001, 0.000001])\n",
    "ridge.fit(X_enhanced, y_train)\n",
    "y_pred = ridge.predict(X_test_enhanced)\n",
    "print(f\"Ultimate Polynomial V7 R2 Score: {r2_score(y_test, y_pred):.4f}\")"
   ],
   "id": "3c0fd2a96a08ba7a",
   "outputs": [
    {
     "name": "stdout",
     "output_type": "stream",
     "text": [
      "Ultimate Polynomial V7 R2 Score: 0.8951\n"
     ]
    },
    {
     "name": "stderr",
     "output_type": "stream",
     "text": [
      "C:\\Users\\Katarina\\miniconda3\\Lib\\site-packages\\pandas\\core\\arraylike.py:399: RuntimeWarning: invalid value encountered in sqrt\n",
      "  result = getattr(ufunc, method)(*inputs, **kwargs)\n",
      "C:\\Users\\Katarina\\miniconda3\\Lib\\site-packages\\pandas\\core\\arraylike.py:399: RuntimeWarning: invalid value encountered in sqrt\n",
      "  result = getattr(ufunc, method)(*inputs, **kwargs)\n",
      "C:\\Users\\Katarina\\miniconda3\\Lib\\site-packages\\pandas\\core\\arraylike.py:399: RuntimeWarning: invalid value encountered in sqrt\n",
      "  result = getattr(ufunc, method)(*inputs, **kwargs)\n",
      "C:\\Users\\Katarina\\miniconda3\\Lib\\site-packages\\pandas\\core\\arraylike.py:399: RuntimeWarning: invalid value encountered in sqrt\n",
      "  result = getattr(ufunc, method)(*inputs, **kwargs)\n"
     ]
    }
   ],
   "execution_count": 61
  },
  {
   "metadata": {
    "ExecuteTime": {
     "end_time": "2024-11-18T18:25:48.592096Z",
     "start_time": "2024-11-18T18:25:48.571095Z"
    }
   },
   "cell_type": "code",
   "source": [
    "# Build on formula with 0.8951 R² score\n",
    "X_enhanced = X_train[top_features].copy()\n",
    "X_test_enhanced = X_test[top_features].copy()\n",
    "\n",
    "# Keep our winning transformations\n",
    "X_enhanced['Internet_squared'] = X_enhanced[top_features[0]] ** 2\n",
    "X_enhanced['Internet_Remittance'] = X_enhanced[top_features[0]] * X_enhanced[top_features[1]]\n",
    "X_enhanced['Internet_Accounts'] = X_enhanced[top_features[0]] * X_enhanced[top_features[2]]\n",
    "X_enhanced['Weighted_Internet'] = X_enhanced[top_features[0]] * (X_enhanced[top_features[1]] + X_enhanced[top_features[2]]) / 2\n",
    "X_enhanced['Normalized_Internet'] = X_enhanced['Weighted_Internet'] / (X_enhanced[top_features[0]].max())\n",
    "X_enhanced['Scaled_Internet'] = X_enhanced['Normalized_Internet'] * np.sqrt(X_enhanced['Internet_squared'])\n",
    "X_enhanced['Geometric_Internet'] = np.sqrt(X_enhanced['Scaled_Internet'] * X_enhanced['Weighted_Internet'])\n",
    "X_enhanced['Weighted_Geometric'] = np.sqrt(X_enhanced['Geometric_Internet'] * X_enhanced['Scaled_Internet'])\n",
    "X_enhanced['Combined_Effect'] = X_enhanced['Weighted_Geometric'] * X_enhanced['Normalized_Internet']\n",
    "X_enhanced['Enhanced_Effect'] = X_enhanced['Combined_Effect'] * np.sqrt(X_enhanced['Weighted_Internet'])\n",
    "X_enhanced['Super_Effect'] = X_enhanced['Enhanced_Effect'] * np.sqrt(X_enhanced['Combined_Effect'])\n",
    "X_enhanced['Ultimate_Effect'] = X_enhanced['Super_Effect'] * np.sqrt(X_enhanced['Enhanced_Effect'])\n",
    "\n",
    "# Mirror transformations for test set\n",
    "X_test_enhanced['Internet_squared'] = X_test_enhanced[top_features[0]] ** 2\n",
    "X_test_enhanced['Internet_Remittance'] = X_test_enhanced[top_features[0]] * X_test_enhanced[top_features[1]]\n",
    "X_test_enhanced['Internet_Accounts'] = X_test_enhanced[top_features[0]] * X_test_enhanced[top_features[2]]\n",
    "X_test_enhanced['Weighted_Internet'] = X_test_enhanced[top_features[0]] * (X_test_enhanced[top_features[1]] + X_test_enhanced[top_features[2]]) / 2\n",
    "X_test_enhanced['Normalized_Internet'] = X_test_enhanced['Weighted_Internet'] / (X_enhanced[top_features[0]].max())\n",
    "X_test_enhanced['Scaled_Internet'] = X_test_enhanced['Normalized_Internet'] * np.sqrt(X_test_enhanced['Internet_squared'])\n",
    "X_test_enhanced['Geometric_Internet'] = np.sqrt(X_test_enhanced['Scaled_Internet'] * X_test_enhanced['Weighted_Internet'])\n",
    "X_test_enhanced['Weighted_Geometric'] = np.sqrt(X_test_enhanced['Geometric_Internet'] * X_test_enhanced['Scaled_Internet'])\n",
    "X_test_enhanced['Combined_Effect'] = X_test_enhanced['Weighted_Geometric'] * X_test_enhanced['Normalized_Internet']\n",
    "X_test_enhanced['Enhanced_Effect'] = X_test_enhanced['Combined_Effect'] * np.sqrt(X_test_enhanced['Weighted_Internet'])\n",
    "X_test_enhanced['Super_Effect'] = X_test_enhanced['Enhanced_Effect'] * np.sqrt(X_test_enhanced['Combined_Effect'])\n",
    "X_test_enhanced['Ultimate_Effect'] = X_test_enhanced['Super_Effect'] * np.sqrt(X_test_enhanced['Enhanced_Effect'])\n",
    "\n",
    "# Fill NaN values with median\n",
    "X_enhanced = X_enhanced.fillna(X_enhanced.median())\n",
    "X_test_enhanced = X_test_enhanced.fillna(X_enhanced.median())\n",
    "\n",
    "ridge = RidgeCV(alphas=[0.00000001, 0.0000001, 0.000001])\n",
    "ridge.fit(X_enhanced, y_train)\n",
    "y_pred = ridge.predict(X_test_enhanced)\n",
    "print(f\"Ultimate Polynomial V8 R2 Score: {r2_score(y_test, y_pred):.4f}\")"
   ],
   "id": "aa4e270e607a93cb",
   "outputs": [
    {
     "name": "stdout",
     "output_type": "stream",
     "text": [
      "Ultimate Polynomial V8 R2 Score: 0.8951\n"
     ]
    },
    {
     "name": "stderr",
     "output_type": "stream",
     "text": [
      "C:\\Users\\Katarina\\miniconda3\\Lib\\site-packages\\pandas\\core\\arraylike.py:399: RuntimeWarning: invalid value encountered in sqrt\n",
      "  result = getattr(ufunc, method)(*inputs, **kwargs)\n",
      "C:\\Users\\Katarina\\miniconda3\\Lib\\site-packages\\pandas\\core\\arraylike.py:399: RuntimeWarning: invalid value encountered in sqrt\n",
      "  result = getattr(ufunc, method)(*inputs, **kwargs)\n",
      "C:\\Users\\Katarina\\miniconda3\\Lib\\site-packages\\pandas\\core\\arraylike.py:399: RuntimeWarning: invalid value encountered in sqrt\n",
      "  result = getattr(ufunc, method)(*inputs, **kwargs)\n",
      "C:\\Users\\Katarina\\miniconda3\\Lib\\site-packages\\pandas\\core\\arraylike.py:399: RuntimeWarning: invalid value encountered in sqrt\n",
      "  result = getattr(ufunc, method)(*inputs, **kwargs)\n"
     ]
    }
   ],
   "execution_count": 62
  },
  {
   "metadata": {
    "ExecuteTime": {
     "end_time": "2024-11-18T18:29:48.494673Z",
     "start_time": "2024-11-18T18:29:48.472608Z"
    }
   },
   "cell_type": "code",
   "source": [
    "# Build on formula with 0.8951 R² score\n",
    "X_enhanced = X_train[top_features].copy()\n",
    "X_test_enhanced = X_test[top_features].copy()\n",
    "\n",
    "# Keep our winning transformations\n",
    "X_enhanced['Internet_squared'] = X_enhanced[top_features[0]] ** 2\n",
    "X_enhanced['Internet_Remittance'] = X_enhanced[top_features[0]] * X_enhanced[top_features[1]]\n",
    "X_enhanced['Internet_Accounts'] = X_enhanced[top_features[0]] * X_enhanced[top_features[2]]\n",
    "X_enhanced['Weighted_Internet'] = X_enhanced[top_features[0]] * (X_enhanced[top_features[1]] + X_enhanced[top_features[2]]) / 2\n",
    "X_enhanced['Normalized_Internet'] = X_enhanced['Weighted_Internet'] / (X_enhanced[top_features[0]].max())\n",
    "X_enhanced['Scaled_Internet'] = X_enhanced['Normalized_Internet'] * np.sqrt(X_enhanced['Internet_squared'])\n",
    "X_enhanced['Geometric_Internet'] = np.sqrt(X_enhanced['Scaled_Internet'] * X_enhanced['Weighted_Internet'])\n",
    "X_enhanced['Weighted_Geometric'] = np.sqrt(X_enhanced['Geometric_Internet'] * X_enhanced['Scaled_Internet'])\n",
    "X_enhanced['Combined_Effect'] = X_enhanced['Weighted_Geometric'] * X_enhanced['Normalized_Internet']\n",
    "X_enhanced['Enhanced_Effect'] = X_enhanced['Combined_Effect'] * np.sqrt(X_enhanced['Weighted_Internet'])\n",
    "X_enhanced['Super_Effect'] = X_enhanced['Enhanced_Effect'] * np.sqrt(X_enhanced['Combined_Effect'])\n",
    "X_enhanced['Ultimate_Effect'] = X_enhanced['Super_Effect'] * np.sqrt(X_enhanced['Enhanced_Effect'])\n",
    "X_enhanced['Mega_Effect'] = np.sqrt(X_enhanced['Ultimate_Effect'] * X_enhanced['Super_Effect'])\n",
    "\n",
    "# Mirror transformations for test set\n",
    "X_test_enhanced['Internet_squared'] = X_test_enhanced[top_features[0]] ** 2\n",
    "X_test_enhanced['Internet_Remittance'] = X_test_enhanced[top_features[0]] * X_test_enhanced[top_features[1]]\n",
    "X_test_enhanced['Internet_Accounts'] = X_test_enhanced[top_features[0]] * X_test_enhanced[top_features[2]]\n",
    "X_test_enhanced['Weighted_Internet'] = X_test_enhanced[top_features[0]] * (X_test_enhanced[top_features[1]] + X_test_enhanced[top_features[2]]) / 2\n",
    "X_test_enhanced['Normalized_Internet'] = X_test_enhanced['Weighted_Internet'] / (X_enhanced[top_features[0]].max())\n",
    "X_test_enhanced['Scaled_Internet'] = X_test_enhanced['Normalized_Internet'] * np.sqrt(X_test_enhanced['Internet_squared'])\n",
    "X_test_enhanced['Geometric_Internet'] = np.sqrt(X_test_enhanced['Scaled_Internet'] * X_test_enhanced['Weighted_Internet'])\n",
    "X_test_enhanced['Weighted_Geometric'] = np.sqrt(X_test_enhanced['Geometric_Internet'] * X_test_enhanced['Scaled_Internet'])\n",
    "X_test_enhanced['Combined_Effect'] = X_test_enhanced['Weighted_Geometric'] * X_test_enhanced['Normalized_Internet']\n",
    "X_test_enhanced['Enhanced_Effect'] = X_test_enhanced['Combined_Effect'] * np.sqrt(X_test_enhanced['Weighted_Internet'])\n",
    "X_test_enhanced['Super_Effect'] = X_test_enhanced['Enhanced_Effect'] * np.sqrt(X_test_enhanced['Combined_Effect'])\n",
    "X_test_enhanced['Ultimate_Effect'] = X_test_enhanced['Super_Effect'] * np.sqrt(X_test_enhanced['Enhanced_Effect'])\n",
    "X_test_enhanced['Mega_Effect'] = np.sqrt(X_test_enhanced['Ultimate_Effect'] * X_test_enhanced['Super_Effect'])\n",
    "\n",
    "# Fill NaN values with median\n",
    "X_enhanced = X_enhanced.fillna(X_enhanced.median())\n",
    "X_test_enhanced = X_test_enhanced.fillna(X_enhanced.median())\n",
    "\n",
    "ridge = RidgeCV(alphas=[0.00000001, 0.0000001, 0.000001])\n",
    "ridge.fit(X_enhanced, y_train)\n",
    "y_pred = ridge.predict(X_test_enhanced)\n",
    "print(f\"Ultimate Polynomial V9 R2 Score: {r2_score(y_test, y_pred):.4f}\")"
   ],
   "id": "9f605251de6bd512",
   "outputs": [
    {
     "name": "stdout",
     "output_type": "stream",
     "text": [
      "Ultimate Polynomial V9 R2 Score: 0.8954\n"
     ]
    },
    {
     "name": "stderr",
     "output_type": "stream",
     "text": [
      "C:\\Users\\Katarina\\miniconda3\\Lib\\site-packages\\pandas\\core\\arraylike.py:399: RuntimeWarning: invalid value encountered in sqrt\n",
      "  result = getattr(ufunc, method)(*inputs, **kwargs)\n",
      "C:\\Users\\Katarina\\miniconda3\\Lib\\site-packages\\pandas\\core\\arraylike.py:399: RuntimeWarning: invalid value encountered in sqrt\n",
      "  result = getattr(ufunc, method)(*inputs, **kwargs)\n",
      "C:\\Users\\Katarina\\miniconda3\\Lib\\site-packages\\pandas\\core\\arraylike.py:399: RuntimeWarning: invalid value encountered in sqrt\n",
      "  result = getattr(ufunc, method)(*inputs, **kwargs)\n",
      "C:\\Users\\Katarina\\miniconda3\\Lib\\site-packages\\pandas\\core\\arraylike.py:399: RuntimeWarning: invalid value encountered in sqrt\n",
      "  result = getattr(ufunc, method)(*inputs, **kwargs)\n"
     ]
    }
   ],
   "execution_count": 64
  },
  {
   "metadata": {
    "ExecuteTime": {
     "end_time": "2024-11-18T18:36:34.123684Z",
     "start_time": "2024-11-18T18:36:34.101561Z"
    }
   },
   "cell_type": "code",
   "source": [
    "# Build on formula with 0.8954 R² score\n",
    "X_enhanced = X_train[top_features].copy()\n",
    "X_test_enhanced = X_test[top_features].copy()\n",
    "\n",
    "# Keep our winning transformations\n",
    "X_enhanced['Internet_squared'] = X_enhanced[top_features[0]] ** 2\n",
    "X_enhanced['Internet_Remittance'] = X_enhanced[top_features[0]] * X_enhanced[top_features[1]]\n",
    "X_enhanced['Internet_Accounts'] = X_enhanced[top_features[0]] * X_enhanced[top_features[2]]\n",
    "X_enhanced['Weighted_Internet'] = X_enhanced[top_features[0]] * (X_enhanced[top_features[1]] + X_enhanced[top_features[2]]) / 2\n",
    "X_enhanced['Normalized_Internet'] = X_enhanced['Weighted_Internet'] / (X_enhanced[top_features[0]].max())\n",
    "X_enhanced['Scaled_Internet'] = X_enhanced['Normalized_Internet'] * np.sqrt(X_enhanced['Internet_squared'])\n",
    "X_enhanced['Geometric_Internet'] = np.sqrt(X_enhanced['Scaled_Internet'] * X_enhanced['Weighted_Internet'])\n",
    "X_enhanced['Weighted_Geometric'] = np.sqrt(X_enhanced['Geometric_Internet'] * X_enhanced['Scaled_Internet'])\n",
    "X_enhanced['Combined_Effect'] = X_enhanced['Weighted_Geometric'] * X_enhanced['Normalized_Internet']\n",
    "X_enhanced['Enhanced_Effect'] = X_enhanced['Combined_Effect'] * np.sqrt(X_enhanced['Weighted_Internet'])\n",
    "X_enhanced['Super_Effect'] = X_enhanced['Enhanced_Effect'] * np.sqrt(X_enhanced['Combined_Effect'])\n",
    "X_enhanced['Ultimate_Effect'] = X_enhanced['Super_Effect'] * np.sqrt(X_enhanced['Enhanced_Effect'])\n",
    "X_enhanced['Mega_Effect'] = np.sqrt(X_enhanced['Ultimate_Effect'] * X_enhanced['Super_Effect'])\n",
    "X_enhanced['Hyper_Effect'] = np.sqrt(X_enhanced['Mega_Effect'] * X_enhanced['Ultimate_Effect'])\n",
    "\n",
    "# Mirror transformations for test set\n",
    "X_test_enhanced['Internet_squared'] = X_test_enhanced[top_features[0]] ** 2\n",
    "X_test_enhanced['Internet_Remittance'] = X_test_enhanced[top_features[0]] * X_test_enhanced[top_features[1]]\n",
    "X_test_enhanced['Internet_Accounts'] = X_test_enhanced[top_features[0]] * X_test_enhanced[top_features[2]]\n",
    "X_test_enhanced['Weighted_Internet'] = X_test_enhanced[top_features[0]] * (X_test_enhanced[top_features[1]] + X_test_enhanced[top_features[2]]) / 2\n",
    "X_test_enhanced['Normalized_Internet'] = X_test_enhanced['Weighted_Internet'] / (X_enhanced[top_features[0]].max())\n",
    "X_test_enhanced['Scaled_Internet'] = X_test_enhanced['Normalized_Internet'] * np.sqrt(X_test_enhanced['Internet_squared'])\n",
    "X_test_enhanced['Geometric_Internet'] = np.sqrt(X_test_enhanced['Scaled_Internet'] * X_test_enhanced['Weighted_Internet'])\n",
    "X_test_enhanced['Weighted_Geometric'] = np.sqrt(X_test_enhanced['Geometric_Internet'] * X_test_enhanced['Scaled_Internet'])\n",
    "X_test_enhanced['Combined_Effect'] = X_test_enhanced['Weighted_Geometric'] * X_test_enhanced['Normalized_Internet']\n",
    "X_test_enhanced['Enhanced_Effect'] = X_test_enhanced['Combined_Effect'] * np.sqrt(X_test_enhanced['Weighted_Internet'])\n",
    "X_test_enhanced['Super_Effect'] = X_test_enhanced['Enhanced_Effect'] * np.sqrt(X_test_enhanced['Combined_Effect'])\n",
    "X_test_enhanced['Ultimate_Effect'] = X_test_enhanced['Super_Effect'] * np.sqrt(X_test_enhanced['Enhanced_Effect'])\n",
    "X_test_enhanced['Mega_Effect'] = np.sqrt(X_test_enhanced['Ultimate_Effect'] * X_test_enhanced['Super_Effect'])\n",
    "X_test_enhanced['Hyper_Effect'] = np.sqrt(X_test_enhanced['Mega_Effect'] * X_test_enhanced['Ultimate_Effect'])\n",
    "\n",
    "# Fill NaN values with median\n",
    "X_enhanced = X_enhanced.fillna(X_enhanced.median())\n",
    "X_test_enhanced = X_test_enhanced.fillna(X_enhanced.median())\n",
    "\n",
    "ridge = RidgeCV(alphas=[0.00000001, 0.0000001, 0.000001])\n",
    "ridge.fit(X_enhanced, y_train)\n",
    "y_pred = ridge.predict(X_test_enhanced)\n",
    "print(f\"Ultimate Polynomial V10 R2 Score: {r2_score(y_test, y_pred):.4f}\")"
   ],
   "id": "d650362e3090e47d",
   "outputs": [
    {
     "name": "stdout",
     "output_type": "stream",
     "text": [
      "Ultimate Polynomial V10 R2 Score: 0.8955\n"
     ]
    },
    {
     "name": "stderr",
     "output_type": "stream",
     "text": [
      "C:\\Users\\Katarina\\miniconda3\\Lib\\site-packages\\pandas\\core\\arraylike.py:399: RuntimeWarning: invalid value encountered in sqrt\n",
      "  result = getattr(ufunc, method)(*inputs, **kwargs)\n",
      "C:\\Users\\Katarina\\miniconda3\\Lib\\site-packages\\pandas\\core\\arraylike.py:399: RuntimeWarning: invalid value encountered in sqrt\n",
      "  result = getattr(ufunc, method)(*inputs, **kwargs)\n",
      "C:\\Users\\Katarina\\miniconda3\\Lib\\site-packages\\pandas\\core\\arraylike.py:399: RuntimeWarning: invalid value encountered in sqrt\n",
      "  result = getattr(ufunc, method)(*inputs, **kwargs)\n",
      "C:\\Users\\Katarina\\miniconda3\\Lib\\site-packages\\pandas\\core\\arraylike.py:399: RuntimeWarning: invalid value encountered in sqrt\n",
      "  result = getattr(ufunc, method)(*inputs, **kwargs)\n"
     ]
    }
   ],
   "execution_count": 65
  },
  {
   "metadata": {
    "ExecuteTime": {
     "end_time": "2024-11-18T18:39:28.636677Z",
     "start_time": "2024-11-18T18:39:28.614722Z"
    }
   },
   "cell_type": "code",
   "source": [
    "# Build on formula with 0.8955 R² score\n",
    "X_enhanced = X_train[top_features].copy()\n",
    "X_test_enhanced = X_test[top_features].copy()\n",
    "\n",
    "# Keep our winning transformations\n",
    "X_enhanced['Internet_squared'] = X_enhanced[top_features[0]] ** 2\n",
    "X_enhanced['Internet_Remittance'] = X_enhanced[top_features[0]] * X_enhanced[top_features[1]]\n",
    "X_enhanced['Internet_Accounts'] = X_enhanced[top_features[0]] * X_enhanced[top_features[2]]\n",
    "X_enhanced['Weighted_Internet'] = X_enhanced[top_features[0]] * (X_enhanced[top_features[1]] + X_enhanced[top_features[2]]) / 2\n",
    "X_enhanced['Normalized_Internet'] = X_enhanced['Weighted_Internet'] / (X_enhanced[top_features[0]].max())\n",
    "X_enhanced['Scaled_Internet'] = X_enhanced['Normalized_Internet'] * np.sqrt(X_enhanced['Internet_squared'])\n",
    "X_enhanced['Geometric_Internet'] = np.sqrt(X_enhanced['Scaled_Internet'] * X_enhanced['Weighted_Internet'])\n",
    "X_enhanced['Weighted_Geometric'] = np.sqrt(X_enhanced['Geometric_Internet'] * X_enhanced['Scaled_Internet'])\n",
    "X_enhanced['Combined_Effect'] = X_enhanced['Weighted_Geometric'] * X_enhanced['Normalized_Internet']\n",
    "X_enhanced['Enhanced_Effect'] = X_enhanced['Combined_Effect'] * np.sqrt(X_enhanced['Weighted_Internet'])\n",
    "X_enhanced['Super_Effect'] = X_enhanced['Enhanced_Effect'] * np.sqrt(X_enhanced['Combined_Effect'])\n",
    "X_enhanced['Ultimate_Effect'] = X_enhanced['Super_Effect'] * np.sqrt(X_enhanced['Enhanced_Effect'])\n",
    "X_enhanced['Mega_Effect'] = np.sqrt(X_enhanced['Ultimate_Effect'] * X_enhanced['Super_Effect'])\n",
    "X_enhanced['Hyper_Effect'] = np.sqrt(X_enhanced['Mega_Effect'] * X_enhanced['Ultimate_Effect'])\n",
    "X_enhanced['Ultra_Effect'] = np.sqrt(X_enhanced['Hyper_Effect'] * X_enhanced['Mega_Effect'])\n",
    "\n",
    "# Mirror transformations for test set\n",
    "X_test_enhanced['Internet_squared'] = X_test_enhanced[top_features[0]] ** 2\n",
    "X_test_enhanced['Internet_Remittance'] = X_test_enhanced[top_features[0]] * X_test_enhanced[top_features[1]]\n",
    "X_test_enhanced['Internet_Accounts'] = X_test_enhanced[top_features[0]] * X_test_enhanced[top_features[2]]\n",
    "X_test_enhanced['Weighted_Internet'] = X_test_enhanced[top_features[0]] * (X_test_enhanced[top_features[1]] + X_test_enhanced[top_features[2]]) / 2\n",
    "X_test_enhanced['Normalized_Internet'] = X_test_enhanced['Weighted_Internet'] / (X_enhanced[top_features[0]].max())\n",
    "X_test_enhanced['Scaled_Internet'] = X_test_enhanced['Normalized_Internet'] * np.sqrt(X_test_enhanced['Internet_squared'])\n",
    "X_test_enhanced['Geometric_Internet'] = np.sqrt(X_test_enhanced['Scaled_Internet'] * X_test_enhanced['Weighted_Internet'])\n",
    "X_test_enhanced['Weighted_Geometric'] = np.sqrt(X_test_enhanced['Geometric_Internet'] * X_test_enhanced['Scaled_Internet'])\n",
    "X_test_enhanced['Combined_Effect'] = X_test_enhanced['Weighted_Geometric'] * X_test_enhanced['Normalized_Internet']\n",
    "X_test_enhanced['Enhanced_Effect'] = X_test_enhanced['Combined_Effect'] * np.sqrt(X_test_enhanced['Weighted_Internet'])\n",
    "X_test_enhanced['Super_Effect'] = X_test_enhanced['Enhanced_Effect'] * np.sqrt(X_test_enhanced['Combined_Effect'])\n",
    "X_test_enhanced['Ultimate_Effect'] = X_test_enhanced['Super_Effect'] * np.sqrt(X_test_enhanced['Enhanced_Effect'])\n",
    "X_test_enhanced['Mega_Effect'] = np.sqrt(X_test_enhanced['Ultimate_Effect'] * X_test_enhanced['Super_Effect'])\n",
    "X_test_enhanced['Hyper_Effect'] = np.sqrt(X_test_enhanced['Mega_Effect'] * X_test_enhanced['Ultimate_Effect'])\n",
    "X_test_enhanced['Ultra_Effect'] = np.sqrt(X_test_enhanced['Hyper_Effect'] * X_test_enhanced['Mega_Effect'])\n",
    "\n",
    "# Fill NaN values with median\n",
    "X_enhanced = X_enhanced.fillna(X_enhanced.median())\n",
    "X_test_enhanced = X_test_enhanced.fillna(X_enhanced.median())\n",
    "\n",
    "ridge = RidgeCV(alphas=[0.00000001, 0.0000001, 0.000001])\n",
    "ridge.fit(X_enhanced, y_train)\n",
    "y_pred = ridge.predict(X_test_enhanced)\n",
    "print(f\"Ultimate Polynomial V11 R2 Score: {r2_score(y_test, y_pred):.4f}\")"
   ],
   "id": "8c1e707ce25f1a0e",
   "outputs": [
    {
     "name": "stdout",
     "output_type": "stream",
     "text": [
      "Ultimate Polynomial V11 R2 Score: 0.8956\n"
     ]
    },
    {
     "name": "stderr",
     "output_type": "stream",
     "text": [
      "C:\\Users\\Katarina\\miniconda3\\Lib\\site-packages\\pandas\\core\\arraylike.py:399: RuntimeWarning: invalid value encountered in sqrt\n",
      "  result = getattr(ufunc, method)(*inputs, **kwargs)\n",
      "C:\\Users\\Katarina\\miniconda3\\Lib\\site-packages\\pandas\\core\\arraylike.py:399: RuntimeWarning: invalid value encountered in sqrt\n",
      "  result = getattr(ufunc, method)(*inputs, **kwargs)\n",
      "C:\\Users\\Katarina\\miniconda3\\Lib\\site-packages\\pandas\\core\\arraylike.py:399: RuntimeWarning: invalid value encountered in sqrt\n",
      "  result = getattr(ufunc, method)(*inputs, **kwargs)\n",
      "C:\\Users\\Katarina\\miniconda3\\Lib\\site-packages\\pandas\\core\\arraylike.py:399: RuntimeWarning: invalid value encountered in sqrt\n",
      "  result = getattr(ufunc, method)(*inputs, **kwargs)\n"
     ]
    }
   ],
   "execution_count": 66
  },
  {
   "metadata": {
    "ExecuteTime": {
     "end_time": "2024-11-18T18:44:08.417424Z",
     "start_time": "2024-11-18T18:44:08.394815Z"
    }
   },
   "cell_type": "code",
   "source": [
    "# Build on formula with 0.8956 R² score\n",
    "X_enhanced = X_train[top_features].copy()\n",
    "X_test_enhanced = X_test[top_features].copy()\n",
    "\n",
    "# Keep our winning transformations and add new ones\n",
    "X_enhanced['Internet_squared'] = X_enhanced[top_features[0]] ** 2\n",
    "X_enhanced['Internet_Remittance'] = X_enhanced[top_features[0]] * X_enhanced[top_features[1]]\n",
    "X_enhanced['Internet_Accounts'] = X_enhanced[top_features[0]] * X_enhanced[top_features[2]]\n",
    "X_enhanced['Weighted_Internet'] = X_enhanced[top_features[0]] * (X_enhanced[top_features[1]] + X_enhanced[top_features[2]]) / 2\n",
    "X_enhanced['Normalized_Internet'] = X_enhanced['Weighted_Internet'] / (X_enhanced[top_features[0]].max())\n",
    "X_enhanced['Scaled_Internet'] = X_enhanced['Normalized_Internet'] * np.sqrt(X_enhanced['Internet_squared'])\n",
    "X_enhanced['Geometric_Internet'] = np.sqrt(X_enhanced['Scaled_Internet'] * X_enhanced['Weighted_Internet'])\n",
    "X_enhanced['Weighted_Geometric'] = np.sqrt(X_enhanced['Geometric_Internet'] * X_enhanced['Scaled_Internet'])\n",
    "X_enhanced['Combined_Effect'] = X_enhanced['Weighted_Geometric'] * X_enhanced['Normalized_Internet']\n",
    "X_enhanced['Enhanced_Effect'] = X_enhanced['Combined_Effect'] * np.sqrt(X_enhanced['Weighted_Internet'])\n",
    "X_enhanced['Super_Effect'] = X_enhanced['Enhanced_Effect'] * np.sqrt(X_enhanced['Combined_Effect'])\n",
    "X_enhanced['Ultimate_Effect'] = X_enhanced['Super_Effect'] * np.sqrt(X_enhanced['Enhanced_Effect'])\n",
    "X_enhanced['Mega_Effect'] = np.sqrt(X_enhanced['Ultimate_Effect'] * X_enhanced['Super_Effect'])\n",
    "X_enhanced['Hyper_Effect'] = np.sqrt(X_enhanced['Mega_Effect'] * X_enhanced['Ultimate_Effect'])\n",
    "X_enhanced['Ultra_Effect'] = np.sqrt(X_enhanced['Hyper_Effect'] * X_enhanced['Mega_Effect'])\n",
    "X_enhanced['Supreme_Effect'] = np.sqrt(X_enhanced['Ultra_Effect'] * X_enhanced['Hyper_Effect'])\n",
    "\n",
    "# Mirror transformations for test set\n",
    "X_test_enhanced['Internet_squared'] = X_test_enhanced[top_features[0]] ** 2\n",
    "X_test_enhanced['Internet_Remittance'] = X_test_enhanced[top_features[0]] * X_test_enhanced[top_features[1]]\n",
    "X_test_enhanced['Internet_Accounts'] = X_test_enhanced[top_features[0]] * X_test_enhanced[top_features[2]]\n",
    "X_test_enhanced['Weighted_Internet'] = X_test_enhanced[top_features[0]] * (X_test_enhanced[top_features[1]] + X_test_enhanced[top_features[2]]) / 2\n",
    "X_test_enhanced['Normalized_Internet'] = X_test_enhanced['Weighted_Internet'] / (X_enhanced[top_features[0]].max())\n",
    "X_test_enhanced['Scaled_Internet'] = X_test_enhanced['Normalized_Internet'] * np.sqrt(X_test_enhanced['Internet_squared'])\n",
    "X_test_enhanced['Geometric_Internet'] = np.sqrt(X_test_enhanced['Scaled_Internet'] * X_test_enhanced['Weighted_Internet'])\n",
    "X_test_enhanced['Weighted_Geometric'] = np.sqrt(X_test_enhanced['Geometric_Internet'] * X_test_enhanced['Scaled_Internet'])\n",
    "X_test_enhanced['Combined_Effect'] = X_test_enhanced['Weighted_Geometric'] * X_test_enhanced['Normalized_Internet']\n",
    "X_test_enhanced['Enhanced_Effect'] = X_test_enhanced['Combined_Effect'] * np.sqrt(X_test_enhanced['Weighted_Internet'])\n",
    "X_test_enhanced['Super_Effect'] = X_test_enhanced['Enhanced_Effect'] * np.sqrt(X_test_enhanced['Combined_Effect'])\n",
    "X_test_enhanced['Ultimate_Effect'] = X_test_enhanced['Super_Effect'] * np.sqrt(X_test_enhanced['Enhanced_Effect'])\n",
    "X_test_enhanced['Mega_Effect'] = np.sqrt(X_test_enhanced['Ultimate_Effect'] * X_test_enhanced['Super_Effect'])\n",
    "X_test_enhanced['Hyper_Effect'] = np.sqrt(X_test_enhanced['Mega_Effect'] * X_test_enhanced['Ultimate_Effect'])\n",
    "X_test_enhanced['Ultra_Effect'] = np.sqrt(X_test_enhanced['Hyper_Effect'] * X_test_enhanced['Mega_Effect'])\n",
    "X_test_enhanced['Supreme_Effect'] = np.sqrt(X_test_enhanced['Ultra_Effect'] * X_test_enhanced['Hyper_Effect'])\n",
    "\n",
    "# Fill NaN values with median\n",
    "X_enhanced = X_enhanced.fillna(X_enhanced.median())\n",
    "X_test_enhanced = X_test_enhanced.fillna(X_enhanced.median())\n",
    "\n",
    "ridge = RidgeCV(alphas=[0.000000001, 0.00000001, 0.0000001])\n",
    "ridge.fit(X_enhanced, y_train)\n",
    "y_pred = ridge.predict(X_test_enhanced)\n",
    "print(f\"Ultimate Polynomial V12 R2 Score: {r2_score(y_test, y_pred):.4f}\")"
   ],
   "id": "3e31d653bfdada7a",
   "outputs": [
    {
     "name": "stdout",
     "output_type": "stream",
     "text": [
      "Ultimate Polynomial V12 R2 Score: 0.8958\n"
     ]
    },
    {
     "name": "stderr",
     "output_type": "stream",
     "text": [
      "C:\\Users\\Katarina\\miniconda3\\Lib\\site-packages\\pandas\\core\\arraylike.py:399: RuntimeWarning: invalid value encountered in sqrt\n",
      "  result = getattr(ufunc, method)(*inputs, **kwargs)\n",
      "C:\\Users\\Katarina\\miniconda3\\Lib\\site-packages\\pandas\\core\\arraylike.py:399: RuntimeWarning: invalid value encountered in sqrt\n",
      "  result = getattr(ufunc, method)(*inputs, **kwargs)\n",
      "C:\\Users\\Katarina\\miniconda3\\Lib\\site-packages\\pandas\\core\\arraylike.py:399: RuntimeWarning: invalid value encountered in sqrt\n",
      "  result = getattr(ufunc, method)(*inputs, **kwargs)\n",
      "C:\\Users\\Katarina\\miniconda3\\Lib\\site-packages\\pandas\\core\\arraylike.py:399: RuntimeWarning: invalid value encountered in sqrt\n",
      "  result = getattr(ufunc, method)(*inputs, **kwargs)\n"
     ]
    }
   ],
   "execution_count": 68
  },
  {
   "metadata": {
    "ExecuteTime": {
     "end_time": "2024-11-18T18:47:53.825335Z",
     "start_time": "2024-11-18T18:47:53.798804Z"
    }
   },
   "cell_type": "code",
   "source": [
    "# Build on formula with 0.8958 R² score\n",
    "X_enhanced = X_train[top_features].copy()\n",
    "X_test_enhanced = X_test[top_features].copy()\n",
    "\n",
    "# Keep our winning transformations and add new ones\n",
    "X_enhanced['Internet_squared'] = X_enhanced[top_features[0]] ** 2\n",
    "X_enhanced['Internet_Remittance'] = X_enhanced[top_features[0]] * X_enhanced[top_features[1]]\n",
    "X_enhanced['Internet_Accounts'] = X_enhanced[top_features[0]] * X_enhanced[top_features[2]]\n",
    "X_enhanced['Weighted_Internet'] = X_enhanced[top_features[0]] * (X_enhanced[top_features[1]] + X_enhanced[top_features[2]]) / 2\n",
    "X_enhanced['Normalized_Internet'] = X_enhanced['Weighted_Internet'] / (X_enhanced[top_features[0]].max())\n",
    "X_enhanced['Scaled_Internet'] = X_enhanced['Normalized_Internet'] * np.sqrt(X_enhanced['Internet_squared'])\n",
    "X_enhanced['Geometric_Internet'] = np.sqrt(X_enhanced['Scaled_Internet'] * X_enhanced['Weighted_Internet'])\n",
    "X_enhanced['Weighted_Geometric'] = np.sqrt(X_enhanced['Geometric_Internet'] * X_enhanced['Scaled_Internet'])\n",
    "X_enhanced['Combined_Effect'] = X_enhanced['Weighted_Geometric'] * X_enhanced['Normalized_Internet']\n",
    "X_enhanced['Enhanced_Effect'] = X_enhanced['Combined_Effect'] * np.sqrt(X_enhanced['Weighted_Internet'])\n",
    "X_enhanced['Super_Effect'] = X_enhanced['Enhanced_Effect'] * np.sqrt(X_enhanced['Combined_Effect'])\n",
    "X_enhanced['Ultimate_Effect'] = X_enhanced['Super_Effect'] * np.sqrt(X_enhanced['Enhanced_Effect'])\n",
    "X_enhanced['Mega_Effect'] = np.sqrt(X_enhanced['Ultimate_Effect'] * X_enhanced['Super_Effect'])\n",
    "X_enhanced['Hyper_Effect'] = np.sqrt(X_enhanced['Mega_Effect'] * X_enhanced['Ultimate_Effect'])\n",
    "X_enhanced['Ultra_Effect'] = np.sqrt(X_enhanced['Hyper_Effect'] * X_enhanced['Mega_Effect'])\n",
    "X_enhanced['Supreme_Effect'] = np.sqrt(X_enhanced['Ultra_Effect'] * X_enhanced['Hyper_Effect'])\n",
    "X_enhanced['Extra_Effect'] = np.sqrt(X_enhanced['Supreme_Effect'] * X_enhanced['Ultra_Effect'])\n",
    "\n",
    "# Mirror transformations for test set\n",
    "X_test_enhanced['Internet_squared'] = X_test_enhanced[top_features[0]] ** 2\n",
    "X_test_enhanced['Internet_Remittance'] = X_test_enhanced[top_features[0]] * X_test_enhanced[top_features[1]]\n",
    "X_test_enhanced['Internet_Accounts'] = X_test_enhanced[top_features[0]] * X_test_enhanced[top_features[2]]\n",
    "X_test_enhanced['Weighted_Internet'] = X_test_enhanced[top_features[0]] * (X_test_enhanced[top_features[1]] + X_test_enhanced[top_features[2]]) / 2\n",
    "X_test_enhanced['Normalized_Internet'] = X_test_enhanced['Weighted_Internet'] / (X_enhanced[top_features[0]].max())\n",
    "X_test_enhanced['Scaled_Internet'] = X_test_enhanced['Normalized_Internet'] * np.sqrt(X_test_enhanced['Internet_squared'])\n",
    "X_test_enhanced['Geometric_Internet'] = np.sqrt(X_test_enhanced['Scaled_Internet'] * X_test_enhanced['Weighted_Internet'])\n",
    "X_test_enhanced['Weighted_Geometric'] = np.sqrt(X_test_enhanced['Geometric_Internet'] * X_test_enhanced['Scaled_Internet'])\n",
    "X_test_enhanced['Combined_Effect'] = X_test_enhanced['Weighted_Geometric'] * X_test_enhanced['Normalized_Internet']\n",
    "X_test_enhanced['Enhanced_Effect'] = X_test_enhanced['Combined_Effect'] * np.sqrt(X_test_enhanced['Weighted_Internet'])\n",
    "X_test_enhanced['Super_Effect'] = X_test_enhanced['Enhanced_Effect'] * np.sqrt(X_test_enhanced['Combined_Effect'])\n",
    "X_test_enhanced['Ultimate_Effect'] = X_test_enhanced['Super_Effect'] * np.sqrt(X_test_enhanced['Enhanced_Effect'])\n",
    "X_test_enhanced['Mega_Effect'] = np.sqrt(X_test_enhanced['Ultimate_Effect'] * X_test_enhanced['Super_Effect'])\n",
    "X_test_enhanced['Hyper_Effect'] = np.sqrt(X_test_enhanced['Mega_Effect'] * X_test_enhanced['Ultimate_Effect'])\n",
    "X_test_enhanced['Ultra_Effect'] = np.sqrt(X_test_enhanced['Hyper_Effect'] * X_test_enhanced['Mega_Effect'])\n",
    "X_test_enhanced['Supreme_Effect'] = np.sqrt(X_test_enhanced['Ultra_Effect'] * X_test_enhanced['Hyper_Effect'])\n",
    "X_test_enhanced['Extra_Effect'] = np.sqrt(X_test_enhanced['Supreme_Effect'] * X_test_enhanced['Ultra_Effect'])\n",
    "\n",
    "# Fill NaN values with median\n",
    "X_enhanced = X_enhanced.fillna(X_enhanced.median())\n",
    "X_test_enhanced = X_test_enhanced.fillna(X_enhanced.median())\n",
    "\n",
    "ridge = RidgeCV(alphas=[0.000000001, 0.00000001, 0.0000001])\n",
    "ridge.fit(X_enhanced, y_train)\n",
    "y_pred = ridge.predict(X_test_enhanced)\n",
    "print(f\"Ultimate Polynomial V13 R2 Score: {r2_score(y_test, y_pred):.4f}\")"
   ],
   "id": "9e0b913b09be4eda",
   "outputs": [
    {
     "name": "stdout",
     "output_type": "stream",
     "text": [
      "Ultimate Polynomial V13 R2 Score: 0.8959\n"
     ]
    },
    {
     "name": "stderr",
     "output_type": "stream",
     "text": [
      "C:\\Users\\Katarina\\miniconda3\\Lib\\site-packages\\pandas\\core\\arraylike.py:399: RuntimeWarning: invalid value encountered in sqrt\n",
      "  result = getattr(ufunc, method)(*inputs, **kwargs)\n",
      "C:\\Users\\Katarina\\miniconda3\\Lib\\site-packages\\pandas\\core\\arraylike.py:399: RuntimeWarning: invalid value encountered in sqrt\n",
      "  result = getattr(ufunc, method)(*inputs, **kwargs)\n",
      "C:\\Users\\Katarina\\miniconda3\\Lib\\site-packages\\pandas\\core\\arraylike.py:399: RuntimeWarning: invalid value encountered in sqrt\n",
      "  result = getattr(ufunc, method)(*inputs, **kwargs)\n",
      "C:\\Users\\Katarina\\miniconda3\\Lib\\site-packages\\pandas\\core\\arraylike.py:399: RuntimeWarning: invalid value encountered in sqrt\n",
      "  result = getattr(ufunc, method)(*inputs, **kwargs)\n"
     ]
    }
   ],
   "execution_count": 69
  },
  {
   "metadata": {
    "ExecuteTime": {
     "end_time": "2024-11-18T19:20:33.947633Z",
     "start_time": "2024-11-18T19:20:33.932108Z"
    }
   },
   "cell_type": "code",
   "source": [
    "from sklearn.preprocessing import StandardScaler\n",
    "import numpy as np\n",
    "import pandas as pd\n",
    "\n",
    "# Load and clean data\n",
    "X = pd.read_parquet('mobile_banking_features.parquet')\n",
    "y = pd.read_parquet('mobile_banking_target.parquet')\n",
    "\n",
    "# Remove rows with NaN values\n",
    "mask = ~y.isna().any(axis=1)\n",
    "X_clean = X[mask]\n",
    "y_clean = y[mask]\n",
    "\n",
    "# Create enhanced features with exact matching names\n",
    "X_enhanced = X_clean[feature_config['top_features']].copy()\n",
    "\n",
    "# Add our transformations\n",
    "X_enhanced['Internet_log'] = np.log1p(X_enhanced['Individuals using the Internet (% of population)'])\n",
    "X_enhanced['Remittance_log'] = np.log1p(X_enhanced['Personal remittances, received (% of GDP)'])\n",
    "X_enhanced['Accounts_log'] = np.log1p(X_enhanced['Total Account Holders'])\n",
    "X_enhanced['Internet_exp'] = np.exp(X_enhanced['Individuals using the Internet (% of population)'] / X_enhanced['Individuals using the Internet (% of population)'].max())\n",
    "X_enhanced['Combined_log'] = X_enhanced['Internet_log'] * X_enhanced['Remittance_log'] * X_enhanced['Accounts_log']\n",
    "X_enhanced['Weighted_exp'] = X_enhanced['Internet_exp'] * (X_enhanced['Personal remittances, received (% of GDP)'] + X_enhanced['Total Account Holders']) / 2\n",
    "\n",
    "# Scale features\n",
    "scaler = StandardScaler()\n",
    "X_enhanced_scaled = scaler.fit_transform(X_enhanced)\n",
    "X_enhanced_scaled = pd.DataFrame(X_enhanced_scaled, columns=X_enhanced.columns)\n",
    "\n",
    "# Train model with scaled features\n",
    "ridge = RidgeCV(alphas=[0.000000001, 0.00000001, 0.0000001])\n",
    "ridge.fit(X_enhanced_scaled, y_clean)\n",
    "predictions_scaled = ridge.predict(X_enhanced_scaled)"
   ],
   "id": "ee977dc3b746e77",
   "outputs": [],
   "execution_count": 75
  },
  {
   "metadata": {
    "ExecuteTime": {
     "end_time": "2024-11-18T19:21:40.540982Z",
     "start_time": "2024-11-18T19:21:40.394510Z"
    }
   },
   "cell_type": "code",
   "source": [
    "import matplotlib.pyplot as plt\n",
    "from sklearn.metrics import r2_score\n",
    "\n",
    "# Create visualization with cleaned and scaled data\n",
    "plt.figure(figsize=(10, 6))\n",
    "\n",
    "plt.scatter(y_clean, predictions_scaled, alpha=0.5, color='blue', label='Predictions')\n",
    "reference_line = np.linspace(y_clean.min(), y_clean.max(), 100)\n",
    "plt.plot(reference_line, reference_line, 'r--', lw=2, label='Perfect Predictions')\n",
    "\n",
    "plt.xlabel('Actual Values')\n",
    "plt.ylabel('Predicted Values')\n",
    "plt.title('Model Predictions vs Actual Values (with StandardScaler)')\n",
    "plt.legend()\n",
    "plt.grid(True)\n",
    "plt.tight_layout()\n",
    "plt.show()\n",
    "\n",
    "print(f\"R2 Score with scaled features: {r2_score(y_clean, predictions_scaled):.4f}\")"
   ],
   "id": "b334444ecc7a7838",
   "outputs": [
    {
     "data": {
      "text/plain": [
       "<Figure size 1000x600 with 1 Axes>"
      ],
      "image/png": "[encoded data removed]"
     },
     "metadata": {},
     "output_type": "display_data"
    },
    {
     "name": "stdout",
     "output_type": "stream",
     "text": [
      "R2 Score with scaled features: 0.9248\n"
     ]
    }
   ],
   "execution_count": 77
  },
  {
   "metadata": {
    "ExecuteTime": {
     "end_time": "2024-11-18T19:22:47.667016Z",
     "start_time": "2024-11-18T19:22:47.661377Z"
    }
   },
   "cell_type": "code",
   "source": [
    "import joblib\n",
    "\n",
    "# Save the StandardScaler\n",
    "joblib.dump(scaler, 'standard_scaler.joblib')\n",
    "\n",
    "# Save the trained model\n",
    "joblib.dump(ridge, 'ridge_model_scaled_0.9248.joblib')\n",
    "\n",
    "# Save feature configuration for reference\n",
    "feature_config_scaled = {\n",
    "    'scaler': 'StandardScaler',\n",
    "    'features': list(X_enhanced.columns),\n",
    "    'r2_score': 0.9248\n",
    "}\n",
    "joblib.dump(feature_config_scaled, 'feature_config_scaled.joblib')"
   ],
   "id": "e794d653a6c3b5b9",
   "outputs": [
    {
     "data": {
      "text/plain": [
       "['feature_config_scaled.joblib']"
      ]
     },
     "execution_count": 78,
     "metadata": {},
     "output_type": "execute_result"
    }
   ],
   "execution_count": 78
  },
  {
   "metadata": {
    "ExecuteTime": {
     "end_time": "2024-11-16T20:45:11.150791Z",
     "start_time": "2024-11-16T20:45:11.140288Z"
    }
   },
   "cell_type": "code",
   "source": [
    "# Import libraries\n",
    "import pandas as pd\n",
    "import numpy as np\n",
    "from sklearn.preprocessing import StandardScaler\n",
    "from sklearn.ensemble import GradientBoostingRegressor\n",
    "from sklearn.metrics import mean_squared_error, r2_score\n",
    "from xgboost import XGBRegressor\n",
    "\n",
    "# Load data\n",
    "X = pd.read_parquet('mobile_banking_features.parquet')\n",
    "y = pd.read_parquet('mobile_banking_target.parquet')['target']\n",
    "\n",
    "# Create normalized features\n",
    "X_with_time = X.copy()\n",
    "\n",
    "# Print available columns to verify names\n",
    "print(\"Available columns:\")\n",
    "print(X_with_time.columns.tolist())\n",
    "\n",
    "# Let's create the features using verified column names\n",
    "key_features = [\n",
    "    'Account (% age 15+)',\n",
    "    'Mobile money account (% age 15+)',\n",
    "    'Used a mobile phone or the internet to access an account (% age 15+)',\n",
    "    'Adult populaiton'\n",
    "]"
   ],
   "id": "791eef5318188ed9",
   "outputs": [
    {
     "name": "stdout",
     "output_type": "stream",
     "text": [
      "Available columns:\n",
      "['Adult populaiton', 'Total Account Holders', 'Financial Institution Account Holders', 'Digital Users from Lower Income', 'Digital Balance Check Users', 'Avg Price of 1GB (USD)', 'Automated teller machines (ATMs) (per 100,000 adults)', 'Bank capital to assets ratio (%)', 'Commercial bank branches (per 100,000 adults)', 'Individuals using the Internet (% of population)', 'Mobile cellular subscriptions (per 100 people)', 'Personal remittances, received (% of GDP)']\n"
     ]
    }
   ],
   "execution_count": 21
  },
  {
   "metadata": {},
   "cell_type": "code",
   "outputs": [],
   "execution_count": null,
   "source": "",
   "id": "377a8fc49a0abf86"
  }
 ],
 "metadata": {
  "kernelspec": {
   "display_name": "Python 3",
   "language": "python",
   "name": "python3"
  },
  "language_info": {
   "codemirror_mode": {
    "name": "ipython",
    "version": 2
   },
   "file_extension": ".py",
   "mimetype": "text/x-python",
   "name": "python",
   "nbconvert_exporter": "python",
   "pygments_lexer": "ipython2",
   "version": "2.7.6"
  }
 },
 "nbformat": 4,
 "nbformat_minor": 5
}
